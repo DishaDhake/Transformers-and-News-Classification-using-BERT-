{
 "cells": [
  {
   "cell_type": "code",
   "execution_count": null,
   "metadata": {
    "colab": {
     "base_uri": "https://localhost:8080/"
    },
    "id": "I4pC3A9opc8t",
    "outputId": "60dbc3a5-f661-4e38-dba2-f8925a8d28c5"
   },
   "outputs": [
    {
     "name": "stdout",
     "output_type": "stream",
     "text": [
      "Collecting dmba\n",
      "  Downloading dmba-0.2.4-py3-none-any.whl (11.8 MB)\n",
      "\u001b[2K     \u001b[90m━━━━━━━━━━━━━━━━━━━━━━━━━━━━━━━━━━━━━━━━\u001b[0m \u001b[32m11.8/11.8 MB\u001b[0m \u001b[31m38.9 MB/s\u001b[0m eta \u001b[36m0:00:00\u001b[0m\n",
      "\u001b[?25hRequirement already satisfied: graphviz in /usr/local/lib/python3.10/dist-packages (from dmba) (0.20.3)\n",
      "Requirement already satisfied: matplotlib in /usr/local/lib/python3.10/dist-packages (from dmba) (3.7.1)\n",
      "Requirement already satisfied: numpy in /usr/local/lib/python3.10/dist-packages (from dmba) (1.25.2)\n",
      "Requirement already satisfied: pandas in /usr/local/lib/python3.10/dist-packages (from dmba) (2.0.3)\n",
      "Requirement already satisfied: scikit-learn in /usr/local/lib/python3.10/dist-packages (from dmba) (1.2.2)\n",
      "Requirement already satisfied: scipy in /usr/local/lib/python3.10/dist-packages (from dmba) (1.11.4)\n",
      "Requirement already satisfied: contourpy>=1.0.1 in /usr/local/lib/python3.10/dist-packages (from matplotlib->dmba) (1.2.1)\n",
      "Requirement already satisfied: cycler>=0.10 in /usr/local/lib/python3.10/dist-packages (from matplotlib->dmba) (0.12.1)\n",
      "Requirement already satisfied: fonttools>=4.22.0 in /usr/local/lib/python3.10/dist-packages (from matplotlib->dmba) (4.51.0)\n",
      "Requirement already satisfied: kiwisolver>=1.0.1 in /usr/local/lib/python3.10/dist-packages (from matplotlib->dmba) (1.4.5)\n",
      "Requirement already satisfied: packaging>=20.0 in /usr/local/lib/python3.10/dist-packages (from matplotlib->dmba) (24.0)\n",
      "Requirement already satisfied: pillow>=6.2.0 in /usr/local/lib/python3.10/dist-packages (from matplotlib->dmba) (9.4.0)\n",
      "Requirement already satisfied: pyparsing>=2.3.1 in /usr/local/lib/python3.10/dist-packages (from matplotlib->dmba) (3.1.2)\n",
      "Requirement already satisfied: python-dateutil>=2.7 in /usr/local/lib/python3.10/dist-packages (from matplotlib->dmba) (2.8.2)\n",
      "Requirement already satisfied: pytz>=2020.1 in /usr/local/lib/python3.10/dist-packages (from pandas->dmba) (2023.4)\n",
      "Requirement already satisfied: tzdata>=2022.1 in /usr/local/lib/python3.10/dist-packages (from pandas->dmba) (2024.1)\n",
      "Requirement already satisfied: joblib>=1.1.1 in /usr/local/lib/python3.10/dist-packages (from scikit-learn->dmba) (1.4.0)\n",
      "Requirement already satisfied: threadpoolctl>=2.0.0 in /usr/local/lib/python3.10/dist-packages (from scikit-learn->dmba) (3.4.0)\n",
      "Requirement already satisfied: six>=1.5 in /usr/local/lib/python3.10/dist-packages (from python-dateutil>=2.7->matplotlib->dmba) (1.16.0)\n",
      "Installing collected packages: dmba\n",
      "Successfully installed dmba-0.2.4\n"
     ]
    }
   ],
   "source": [
    "!pip install dmba"
   ]
  },
  {
   "cell_type": "code",
   "execution_count": null,
   "metadata": {
    "colab": {
     "base_uri": "https://localhost:8080/"
    },
    "id": "nCcYwFjtpkbI",
    "outputId": "b43afd29-f9a7-4867-f910-376b5d0e27f8"
   },
   "outputs": [
    {
     "name": "stdout",
     "output_type": "stream",
     "text": [
      "Collecting datasets\n",
      "  Downloading datasets-2.19.0-py3-none-any.whl (542 kB)\n",
      "\u001b[2K     \u001b[90m━━━━━━━━━━━━━━━━━━━━━━━━━━━━━━━━━━━━━━━━\u001b[0m \u001b[32m542.0/542.0 kB\u001b[0m \u001b[31m8.5 MB/s\u001b[0m eta \u001b[36m0:00:00\u001b[0m\n",
      "\u001b[?25hRequirement already satisfied: filelock in /usr/local/lib/python3.10/dist-packages (from datasets) (3.13.4)\n",
      "Requirement already satisfied: numpy>=1.17 in /usr/local/lib/python3.10/dist-packages (from datasets) (1.25.2)\n",
      "Requirement already satisfied: pyarrow>=12.0.0 in /usr/local/lib/python3.10/dist-packages (from datasets) (14.0.2)\n",
      "Requirement already satisfied: pyarrow-hotfix in /usr/local/lib/python3.10/dist-packages (from datasets) (0.6)\n",
      "Collecting dill<0.3.9,>=0.3.0 (from datasets)\n",
      "  Downloading dill-0.3.8-py3-none-any.whl (116 kB)\n",
      "\u001b[2K     \u001b[90m━━━━━━━━━━━━━━━━━━━━━━━━━━━━━━━━━━━━━━━━\u001b[0m \u001b[32m116.3/116.3 kB\u001b[0m \u001b[31m11.8 MB/s\u001b[0m eta \u001b[36m0:00:00\u001b[0m\n",
      "\u001b[?25hRequirement already satisfied: pandas in /usr/local/lib/python3.10/dist-packages (from datasets) (2.0.3)\n",
      "Requirement already satisfied: requests>=2.19.0 in /usr/local/lib/python3.10/dist-packages (from datasets) (2.31.0)\n",
      "Requirement already satisfied: tqdm>=4.62.1 in /usr/local/lib/python3.10/dist-packages (from datasets) (4.66.2)\n",
      "Collecting xxhash (from datasets)\n",
      "  Downloading xxhash-3.4.1-cp310-cp310-manylinux_2_17_x86_64.manylinux2014_x86_64.whl (194 kB)\n",
      "\u001b[2K     \u001b[90m━━━━━━━━━━━━━━━━━━━━━━━━━━━━━━━━━━━━━━━━\u001b[0m \u001b[32m194.1/194.1 kB\u001b[0m \u001b[31m7.4 MB/s\u001b[0m eta \u001b[36m0:00:00\u001b[0m\n",
      "\u001b[?25hCollecting multiprocess (from datasets)\n",
      "  Downloading multiprocess-0.70.16-py310-none-any.whl (134 kB)\n",
      "\u001b[2K     \u001b[90m━━━━━━━━━━━━━━━━━━━━━━━━━━━━━━━━━━━━━━━━\u001b[0m \u001b[32m134.8/134.8 kB\u001b[0m \u001b[31m8.0 MB/s\u001b[0m eta \u001b[36m0:00:00\u001b[0m\n",
      "\u001b[?25hRequirement already satisfied: fsspec[http]<=2024.3.1,>=2023.1.0 in /usr/local/lib/python3.10/dist-packages (from datasets) (2023.6.0)\n",
      "Requirement already satisfied: aiohttp in /usr/local/lib/python3.10/dist-packages (from datasets) (3.9.5)\n",
      "Collecting huggingface-hub>=0.21.2 (from datasets)\n",
      "  Downloading huggingface_hub-0.22.2-py3-none-any.whl (388 kB)\n",
      "\u001b[2K     \u001b[90m━━━━━━━━━━━━━━━━━━━━━━━━━━━━━━━━━━━━━━━━\u001b[0m \u001b[32m388.9/388.9 kB\u001b[0m \u001b[31m13.6 MB/s\u001b[0m eta \u001b[36m0:00:00\u001b[0m\n",
      "\u001b[?25hRequirement already satisfied: packaging in /usr/local/lib/python3.10/dist-packages (from datasets) (24.0)\n",
      "Requirement already satisfied: pyyaml>=5.1 in /usr/local/lib/python3.10/dist-packages (from datasets) (6.0.1)\n",
      "Requirement already satisfied: aiosignal>=1.1.2 in /usr/local/lib/python3.10/dist-packages (from aiohttp->datasets) (1.3.1)\n",
      "Requirement already satisfied: attrs>=17.3.0 in /usr/local/lib/python3.10/dist-packages (from aiohttp->datasets) (23.2.0)\n",
      "Requirement already satisfied: frozenlist>=1.1.1 in /usr/local/lib/python3.10/dist-packages (from aiohttp->datasets) (1.4.1)\n",
      "Requirement already satisfied: multidict<7.0,>=4.5 in /usr/local/lib/python3.10/dist-packages (from aiohttp->datasets) (6.0.5)\n",
      "Requirement already satisfied: yarl<2.0,>=1.0 in /usr/local/lib/python3.10/dist-packages (from aiohttp->datasets) (1.9.4)\n",
      "Requirement already satisfied: async-timeout<5.0,>=4.0 in /usr/local/lib/python3.10/dist-packages (from aiohttp->datasets) (4.0.3)\n",
      "Requirement already satisfied: typing-extensions>=3.7.4.3 in /usr/local/lib/python3.10/dist-packages (from huggingface-hub>=0.21.2->datasets) (4.11.0)\n",
      "Requirement already satisfied: charset-normalizer<4,>=2 in /usr/local/lib/python3.10/dist-packages (from requests>=2.19.0->datasets) (3.3.2)\n",
      "Requirement already satisfied: idna<4,>=2.5 in /usr/local/lib/python3.10/dist-packages (from requests>=2.19.0->datasets) (3.7)\n",
      "Requirement already satisfied: urllib3<3,>=1.21.1 in /usr/local/lib/python3.10/dist-packages (from requests>=2.19.0->datasets) (2.0.7)\n",
      "Requirement already satisfied: certifi>=2017.4.17 in /usr/local/lib/python3.10/dist-packages (from requests>=2.19.0->datasets) (2024.2.2)\n",
      "Requirement already satisfied: python-dateutil>=2.8.2 in /usr/local/lib/python3.10/dist-packages (from pandas->datasets) (2.8.2)\n",
      "Requirement already satisfied: pytz>=2020.1 in /usr/local/lib/python3.10/dist-packages (from pandas->datasets) (2023.4)\n",
      "Requirement already satisfied: tzdata>=2022.1 in /usr/local/lib/python3.10/dist-packages (from pandas->datasets) (2024.1)\n",
      "Requirement already satisfied: six>=1.5 in /usr/local/lib/python3.10/dist-packages (from python-dateutil>=2.8.2->pandas->datasets) (1.16.0)\n",
      "Installing collected packages: xxhash, dill, multiprocess, huggingface-hub, datasets\n",
      "  Attempting uninstall: huggingface-hub\n",
      "    Found existing installation: huggingface-hub 0.20.3\n",
      "    Uninstalling huggingface-hub-0.20.3:\n",
      "      Successfully uninstalled huggingface-hub-0.20.3\n",
      "Successfully installed datasets-2.19.0 dill-0.3.8 huggingface-hub-0.22.2 multiprocess-0.70.16 xxhash-3.4.1\n"
     ]
    }
   ],
   "source": [
    "!pip install datasets"
   ]
  },
  {
   "cell_type": "code",
   "execution_count": null,
   "metadata": {
    "colab": {
     "base_uri": "https://localhost:8080/"
    },
    "id": "zZKFojiSpZum",
    "outputId": "0bad6425-f442-4583-a889-f71b49f489ea"
   },
   "outputs": [
    {
     "name": "stdout",
     "output_type": "stream",
     "text": [
      "Colab environment detected.\n"
     ]
    }
   ],
   "source": [
    "#import required modules\n",
    "from zipfile import ZipFile\n",
    "import pandas as pd\n",
    "import numpy as np\n",
    "from sklearn.model_selection import train_test_split\n",
    "from sklearn.feature_extraction.text import CountVectorizer\n",
    "from sklearn.feature_extraction.text import TfidfTransformer\n",
    "from sklearn.feature_extraction import _stop_words\n",
    "from sklearn.decomposition import TruncatedSVD\n",
    "from sklearn.preprocessing import Normalizer\n",
    "from sklearn.pipeline import make_pipeline\n",
    "from sklearn.linear_model import LogisticRegression\n",
    "from nltk import word_tokenize\n",
    "from nltk import punkt\n",
    "from nltk.stem.snowball import EnglishStemmer\n",
    "import matplotlib.pylab as plt\n",
    "from dmba import printTermDocumentMatrix, classificationSummary, liftChart\n",
    "from datasets import load_dataset"
   ]
  },
  {
   "cell_type": "code",
   "execution_count": null,
   "metadata": {
    "id": "4hvFWI15pJnA"
   },
   "outputs": [],
   "source": [
    "#import required modules\n",
    "from zipfile import ZipFile\n",
    "import pandas as pd\n",
    "import numpy as np\n",
    "from sklearn.model_selection import train_test_split\n",
    "import tensorflow as tf\n",
    "from transformers import BertTokenizer, TFAutoModel, BertForSequenceClassification"
   ]
  },
  {
   "cell_type": "code",
   "execution_count": null,
   "metadata": {
    "colab": {
     "base_uri": "https://localhost:8080/",
     "height": 301,
     "referenced_widgets": [
      "2bc7d345ab244a43b91976608b0ed044",
      "2be990fef80844b1902d504ef1b6a07c",
      "bf53d88c33d54f3695faa9bc7b9c702d",
      "22ec1a0ba5684a04b5daef84e7d932b6",
      "f5ca8f9ee8c1467f84c9e316cce5e3fe",
      "93e15b6e71fb4351bc56ba7fb13fcc27",
      "8e33e6798cac4140a597524015f6c4b1",
      "1196340cb9a4411080bac6b57e20070f",
      "070bc6886ba54cb2a27b4b204d222d9d",
      "d13342765c5a45e8b08582f53dcb2ccb",
      "412572de40324da08af42af461259b61",
      "636a687048794e00ab137b126c4ead9b",
      "532e335c731143a88d6861799645b49b",
      "7e604e4f6a774568b1e58fe4e7fba6d4",
      "65fb618e61b74597a10e2d1bd15c004f",
      "9f6e1ae7fc8c442b99a5970dd1ba5eda",
      "d0a153ba191e46d9b6f8d688def8285e",
      "f26522540b524ec38809fb273638676b",
      "08d9640be09b457aa24a983af01875b9",
      "2a02986e848d41ce959852d8505431dc",
      "ea00e685b7ed400f91aaf57ba1d7eac0",
      "6ab797d4011e46199a3bd22223b23572",
      "acd69de4693d41248d398ba46959c3df",
      "ab2f0fb8b1924e89b2988ae54fd1d927",
      "d44632b799f9445389b79a4c7f3ce378",
      "0edcd389ccdf44e8b6fc07c62ce0a6ff",
      "65004c8feb7642bbb08a199a4c9b997c",
      "a444187e8871497e988933a6de1c2781",
      "ad7ba470f4e6479299d0ee73b29c8bf8",
      "30cb4943c752492d8ff5a7abe8d93b2b",
      "228286218e0f4cdcb266f5d7f4c1afca",
      "810bc1a098224e2bbba7cb54a6a0cb93",
      "4942a6a96eec47f2848e0f24d5c5206c",
      "b252009902104208a78745430858aef3",
      "599de958eb944ebd9d85d72de3a33a1f",
      "202948d5f1fa4c849d7f642de85a883f",
      "473033bcbd30487e9b7712436dac1fae",
      "c962dbf5b4c84975ba7d777ecb2f4cd1",
      "d9605df7630e41939def62c2069cec03",
      "f3ea0a6d3df34b519a6da151729bc92a",
      "85ea107bc19c448cb1841a9e8dda05a6",
      "315a7b8de96c4233b90de04e9cebdbd2",
      "d08b5c0f033a419fbfd2fb5cb6815982",
      "7ba2c7a95e17476db94a8e1ccce36f4e",
      "5d2dbd0c0897490081a98f05142aa631",
      "96ac08242d1640668cdf63933d65dd30",
      "e1f66f1f4bd34963ae6c38eb2baaeb26",
      "f6f715e50ae4419680fc19392f3769bf",
      "ca2278f5c67e46c0a4c62f16f6d4eff8",
      "f389638ca92b4c9aa655a677a8e6a2b6",
      "600528d4f97e4814b6d36cea04648283",
      "17b34b2111d84076be56fbbd34ef7d49",
      "0c9bcf081ace4e0a94b76d3fdbd4cc01",
      "1d95ad115ec747f7a9970b1c139b8c2b",
      "fe93b3da23eb43cfbc9f0928913cbb3b"
     ]
    },
    "id": "zgKCAHiTpQ4j",
    "outputId": "506d52e1-2f16-431d-fb15-66fb282d4def"
   },
   "outputs": [
    {
     "name": "stderr",
     "output_type": "stream",
     "text": [
      "/usr/local/lib/python3.10/dist-packages/huggingface_hub/utils/_token.py:89: UserWarning: \n",
      "The secret `HF_TOKEN` does not exist in your Colab secrets.\n",
      "To authenticate with the Hugging Face Hub, create a token in your settings tab (https://huggingface.co/settings/tokens), set it as secret in your Google Colab and restart your session.\n",
      "You will be able to reuse this secret in all of your notebooks.\n",
      "Please note that authentication is recommended but still optional to access public models or datasets.\n",
      "  warnings.warn(\n"
     ]
    },
    {
     "data": {
      "application/vnd.jupyter.widget-view+json": {
       "model_id": "2bc7d345ab244a43b91976608b0ed044",
       "version_major": 2,
       "version_minor": 0
      },
      "text/plain": [
       "Downloading readme:   0%|          | 0.00/8.07k [00:00<?, ?B/s]"
      ]
     },
     "metadata": {},
     "output_type": "display_data"
    },
    {
     "data": {
      "application/vnd.jupyter.widget-view+json": {
       "model_id": "636a687048794e00ab137b126c4ead9b",
       "version_major": 2,
       "version_minor": 0
      },
      "text/plain": [
       "Downloading data:   0%|          | 0.00/18.6M [00:00<?, ?B/s]"
      ]
     },
     "metadata": {},
     "output_type": "display_data"
    },
    {
     "data": {
      "application/vnd.jupyter.widget-view+json": {
       "model_id": "acd69de4693d41248d398ba46959c3df",
       "version_major": 2,
       "version_minor": 0
      },
      "text/plain": [
       "Downloading data:   0%|          | 0.00/1.23M [00:00<?, ?B/s]"
      ]
     },
     "metadata": {},
     "output_type": "display_data"
    },
    {
     "data": {
      "application/vnd.jupyter.widget-view+json": {
       "model_id": "b252009902104208a78745430858aef3",
       "version_major": 2,
       "version_minor": 0
      },
      "text/plain": [
       "Generating train split:   0%|          | 0/120000 [00:00<?, ? examples/s]"
      ]
     },
     "metadata": {},
     "output_type": "display_data"
    },
    {
     "data": {
      "application/vnd.jupyter.widget-view+json": {
       "model_id": "5d2dbd0c0897490081a98f05142aa631",
       "version_major": 2,
       "version_minor": 0
      },
      "text/plain": [
       "Generating test split:   0%|          | 0/7600 [00:00<?, ? examples/s]"
      ]
     },
     "metadata": {},
     "output_type": "display_data"
    }
   ],
   "source": [
    "newsWire = load_dataset('ag_news')"
   ]
  },
  {
   "cell_type": "code",
   "execution_count": null,
   "metadata": {
    "colab": {
     "base_uri": "https://localhost:8080/"
    },
    "id": "qLNy0EflpSor",
    "outputId": "c77cc5dc-6435-4c1b-8023-3c093b41227a"
   },
   "outputs": [
    {
     "data": {
      "text/plain": [
       "{'train': MemoryMappedTable\n",
       " text: string\n",
       " label: int64\n",
       " ----\n",
       " text: [[\"Wall St. Bears Claw Back Into the Black (Reuters) Reuters - Short-sellers, Wall Street's dwindling\\band of ultra-cynics, are seeing green again.\",\"Carlyle Looks Toward Commercial Aerospace (Reuters) Reuters - Private investment firm Carlyle Group,\\which has a reputation for making well-timed and occasionally\\controversial plays in the defense industry, has quietly placed\\its bets on another part of the market.\",\"Oil and Economy Cloud Stocks' Outlook (Reuters) Reuters - Soaring crude prices plus worries\\about the economy and the outlook for earnings are expected to\\hang over the stock market next week during the depth of the\\summer doldrums.\",\"Iraq Halts Oil Exports from Main Southern Pipeline (Reuters) Reuters - Authorities have halted oil export\\flows from the main pipeline in southern Iraq after\\intelligence showed a rebel militia could strike\\infrastructure, an oil official said on Saturday.\",\"Oil prices soar to all-time record, posing new menace to US economy (AFP) AFP - Tearaway world oil prices, toppling records and straining wallets, present a new economic menace barely three months before the US presidential elections.\",...,\"U.S. Stocks Rebound as Oil Prices Ease  NEW YORK (Reuters) - U.S. stocks rebounded on Monday as oil  prices retreated from their highs, while upbeat earnings  announcements from retailers fueled the improved sentiment.\",\"Dollar Rises Vs Euro After Asset Data  NEW YORK (Reuters) - The dollar gained against the euro on  Monday after a report on flows into U.S. assets showed enough  of a rise in foreign investments to offset the current account  gap for the month.\",\"Bikes Bring Internet to Indian Villagers (AP) AP - For 12-year-old Anju Sharma, hope for a better life arrives in her poor farming village three days a week on a bicycle rickshaw that carries a computer with a high-speed, wireless Internet connection.\",\"Celebrity Chefs Are Everywhere in Vegas By ADAM GOLDMAN    LAS VEGAS (AP) -- The waiter appears tableside in the cozy dining room laden with oil paintings, stained glass and hints of cherry and oak. Before reciting the day's special menu items, he recounts the restaurant's devotion to farm-fresh produce and tosses out a morsel about its namesake, chef Bradley Ogden...\",\"Entertainment World Wary of Microsoft Technology By GARY GENTILE    LOS ANGELES (AP) -- CinemaNow Inc., the Internet-based movie service, is a rarity in Hollywood - a company that eagerly embraces Microsoft Corp. (MSFT) technology and relies on it exclusively to transmit, protect and display the movies it rents to customers...\"],[\"European Union Extends Microsoft-Time Warner Review BRUSSELS, Belgium (AP) -- European antitrust regulators said Monday they have extended their review of a deal between Microsoft Corp. (MSFT) and Time Warner Inc...\",\"Patriots Sign Top Pick Watson (Reuters) Reuters - The New England Patriots\\Monday announced the signing of first-round draft pick Benjamin\\Watson. As per team policy, terms of the tight end's deal were\\not released.\",\"Olympics: Thorpe Beats Phelps as U.S. Fights Gold Gap  ATHENS (Reuters) - Australian swimmer Ian Thorpe beat  arch-rival Michael Phelps in the men's 200-meter freestyle on  Monday as the United States pursued China, Australia and Japan  in the medals table on day three of the Olympic Games.\",\"U.S. Awaits Judgment on Venezuela Voting (AP) AP - There was no evident pattern of fraud in Venezuela's balloting that left President Hugo Chavez in office but a final judgment depends on what observers report, the State Department said Monday.\",\"Bush, Kerry Press for Women's Votes (AP) AP - Elizabeth Burnosky is a registered Democrat who voted for President Bush in 2000, opposes his policy on Iraq and calls Sen. John Kerry \"a little wussy boy.\" Call her conflicted.\",...,\"Google Interview Is Draw for Latest Playboy Issue (Reuters) Reuters - The new issue of Playboy magazine\\isn't drawing attention in some circles for its trademark\\centerfold but for an interview with the founders of Web search\\engine Google Inc. that raised regulatory eyebrows.\",\"Williamson Gets Third Opinion on Elbow (AP) AP - Red Sox reliever Scott Williamson sought a third opinion on his ailing right elbow Tuesday before deciding whether to have major reconstructive surgery.\",\"Iran Threatens Israel on Nuclear Reactor (AP) AP - Accompanied by a warning that its missiles have the range, Iran on Tuesday said it would destroy Israel's Dimona nuclear reactor if the Jewish state were to attack Iran's nuclear facilities.\",\"Grim funeral service held for Burundi massacre victims (AFP) AFP - Thousands of grieving people and top politicians attended a grim funeral service held to bury some 160 Congolese Tutsis slaughtered in a refugee camp in Burundi.\",\"Borders Profits Rise, Raises Outlook NEW YORK (Reuters) - Borders Group Inc. (BGP.N: Quote, Profile, Research) , the No. 2 US bookseller, on Tuesday said quarterly earnings rose, beating estimates by the company and Wall Street, largely because of stronger-than-expected book sales. \"],...,[\"Scandal claims a tearful Blunkett THE revenge of an ex-lover has forced the resignation of British Home Secretary David Blunkett, dealing a blow to Tony Blair less than six months before an expected general election.\",\"UN broadens its presence in Iraq UNITED NATIONS, New York The United Nations has announced that it is expanding its presence in Iraq outside of Baghdad to the cities of Erbil and Basra and planning to send a small addition of staff members into the country to assist in the elections \",\"Current Account Gap Widens to Record (Reuters) Reuters - The U.S. current account deficit\\widened slightly to a record  #36;164.71 billion in the third\\quarter as the goods trade shortfall grew and the services\\surplus shrank, the government said on Thursday.\",\"Symantec to Buy Veritas for \\$13.5 Billion  NEW YORK/SAN FRANCISCO (Reuters) - Symantec Corp. &lt;A HREF=\"http://www.investor.reuters.com/FullQuote.aspx?ticker=SYMC.O target=/stocks/quickinfo/fullquote\"&gt;SYMC.O&lt;/A&gt;,  a maker of security software, on Thursday said it would buy  storage software maker Veritas Software Corp. &lt;A HREF=\"http://www.investor.reuters.com/FullQuote.aspx?ticker=VRTS.O target=/stocks/quickinfo/fullquote\"&gt;VRTS.O&lt;/A&gt; for  \\$13.5 billion, creating the world's fourth-largest software  company.\",\"Goldman Profit Rises; Revenue Disappoints  NEW YORK (Reuters) - Goldman Sachs Group Inc. on Thursday  said fourth-quarter profit rose 23 percent on strong  fixed-income and commodities trading results and investment  banking gains, but shares fell as revenue missed expectations.\",...,\"OSI Pharma Soars on AstraZeneca #39;s Loss Shares in OSI Pharmaceuticals (OSIP :Nasdaq - news - research) and Genentech (DNA :Nasdaq - news - research) jumped Friday after AstraZeneca (AZN :NYSE - news - research) said new medical data showed its lung cancer drug Iressa provided no survival \",\"Report: Murdoch offers \\$44 million for NY apartment Rupert Murdoch, the billionaire CEO of News Corp. (NWS)(NWSA), has reportedly offered to buy a three-story penthouse for \\$44 million, which would be the highest price ever paid for a Manhattan apartment if the deal goes through.\",\"Tom Online Buys Stake in Indiagames Wireless Internet company Tom Online Inc. on Friday said it signed a definitive agreement to buy a majority stake in Indiagames Ltd.\",\"Wenger fined, warned over Ruud outburst Arsenal manager Arsene Wenger has been fined 15 000 (about R160 000) for improper conduct over comments he made after the English champions #39; controversial 2-0 defeat by Manchester United in October.\",\"In  quot;year of opportunity, quot; Sharon offers state to Palestinians HERZLIYA, Israel An adviser to Israeli Prime Minister Ariel Sharon says a final vote on his planned pullout from Gaza and four West Bank communities could take place months sooner.\"],[\"Israeli Army Raid Into Gaza Kills 5 Palestinians Israeli tanks and troops raided southern Gaza on Friday in response to increasing Palestinian mortar attacks, killing at least five Palestinians and prompting hundreds to flee their homes, witnesses and medics said.\",\"Terrorists threat puts Indonesia on high alert The island paradise Bali will be off limits this holiday season. If your travel plans include Indonesia, you would be wise to cancel your trip immediately.\",\"AP: Colombia Troops Being Sought for Iraq Recruiters working for U.S. contractors are hiring former Colombian soldiers - and luring away active-duty ones - for security jobs in Iraq, according to a former army officer who met with the recruiters.\",\"Cuban Doctor Returns Home From Argentina A prominent Cuban doctor returned home Thursday after an overnight stay at the Argentine Embassy that raised tensions between the two nations amid reports she was seeking political asylum.\",\"Prior art claimed for concentration camp invention &lt;strong&gt;Letters&lt;/strong&gt; It could only happen in &lt;em&gt;Letters&lt;/em&gt;\",...,\"Pakistan's Musharraf Says Won't Quit as Army Chief  KARACHI (Reuters) - Pakistani President Pervez Musharraf  has said he will stay on as army chief, reneging on a pledge to  quit the powerful post by the end of the year.\",\"Renteria signing a top-shelf deal Red Sox general manager Theo Epstein acknowledged Edgar Renteria was more a luxury for the 2005 Red Sox than a necessity. But there's nothing wrong with getting the keys to a BMW, and that's what the four-time All-Star and two-time Gold Glover is in the eyes of the Red Sox.\",\"Saban not going to Dolphins yet The Miami Dolphins will put their courtship of LSU coach Nick Saban on hold to comply with the NFL's hiring policy by interviewing at least one minority candidate, a team source told The Associated Press last night.\",\"Today's NFL games PITTSBURGH at NY GIANTS Time: 1:30 p.m. Line: Steelers by 10. Records: Steelers 12-1, Giants 5-8. Vs. spread: Steelers 10-1-2, Giants 5-8. Series: Giants lead, 43-27-3. Comments: Think the Giants knew Ben Roethlisberger was available on draft day when they broke the bank and traded for Eli Manning? . . . All Big Ben has done this year is complete ...\",\"Nets get Carter from Raptors INDIANAPOLIS -- All-Star Vince Carter was traded by the Toronto Raptors to the New Jersey Nets for Alonzo Mourning, Eric Williams, Aaron Williams, and a pair of first-round draft picks yesterday.\"]]\n",
       " label: [[2,2,2,2,2,...,2,2,3,3,3],[3,1,1,0,0,...,3,1,0,0,2],...,[0,0,2,2,2,...,2,2,2,1,0],[0,0,0,0,3,...,0,1,1,1,1]],\n",
       " 'test': MemoryMappedTable\n",
       " text: string\n",
       " label: int64\n",
       " ----\n",
       " text: [[\"Fears for T N pension after talks Unions representing workers at Turner   Newall say they are 'disappointed' after talks with stricken parent firm Federal Mogul.\",\"The Race is On: Second Private Team Sets Launch Date for Human Spaceflight (SPACE.com) SPACE.com - TORONTO, Canada -- A second\\team of rocketeers competing for the  #36;10 million Ansari X Prize, a contest for\\privately funded suborbital space flight, has officially announced the first\\launch date for its manned rocket.\",\"Ky. Company Wins Grant to Study Peptides (AP) AP - A company founded by a chemistry researcher at the University of Louisville won a grant to develop a method of producing better peptides, which are short chains of amino acids, the building blocks of proteins.\",\"Prediction Unit Helps Forecast Wildfires (AP) AP - It's barely dawn when Mike Fitzpatrick starts his shift with a blur of colorful maps, figures and endless charts, but already he knows what the day will bring. Lightning will strike in places he expects. Winds will pick up, moist places will dry and flames will roar.\",\"Calif. Aims to Limit Farm-Related Smog (AP) AP - Southern California's smog-fighting agency went after emissions of the bovine variety Friday, adopting the nation's first rules to reduce air pollution from dairy cow manure.\",...,\"Mariners riding the Ichiro wave Ichiro Suzuki singled three times last night to etch out a spot in history and to send the Toronto Blue Jays a little deeper into oblivion.\",\"Wharf marks debut with wickets In-form Alex Wharf made an impressive start to his international career this morning with wickets in his first two overs against India at Trent Bridge.\",\"Roddick blisters junior champ By the time his match with Andy Roddick was over, Jenkins had felt the full fury of Roddick #39;s jet blast. Roddick had nailed a 152-mph serve at him, the fastest serve in Open history and one \",\"AMD dual-core demo pips Intel, IBM AMD has demonstrated the company #39;s first dual-core microprocessors. Dual-core processors offer improved performance over single-core chips, especially in multithreaded applications.\",\"Gunmen ambush Chalabi #39;s convoy, wound 2 BAGHDAD - Gunmen ambushed the convoy of former Iraqi governing council president Ahmed Chalabi on Wednesday, wounding two of his bodyguards, aides said.\"],[\"Albertsons #39; 2Q Profit Falls 36 Percent Persistent economic sluggishness and continued fallout from the Southern California labor dispute slashed second quarter profits 36 percent for Albertsons Inc.\",\"Problem device bypassed trials The catheter that triggered three safety recalls by Boston Scientific Corp. of its best-selling Taxus coronary stent after being linked to three deaths and 47 injuries had not been subjected to the rigors of a human clinical trial, FDA records show.\",\"CRM Vendor Entellium Adopts Open-Source Strategy (TechWeb) TechWeb - Availability of Entellium's code could speed development of industry-specific CRM products.\",\"Suicide bomber kills at least 10 in Moscow MOSCOW -- A woman strapped with explosives blew herself up outside a busy Moscow subway station yesterday night, killing at least 10 people and wounding more than 50 in the second terrorist attack to hit Russia in a week.\",\"Old Rumors of Gay Sex Prove Powerful on Web Va. GOP members chose Del. Thelma Drake (Norfolk) to replace Rep. Edward L. Schrock after he resigned amidst allegations Schrock indulged in or solicited gay sex.\",...,\"US Airways Said to Plan to Ask Court for Pay Cuts S Airways plans to ask a federal bankruptcy judge on Oct. 7 to impose temporary pay cuts on its workers unless it can reach agreement with its unions before then, people who have been briefed on the company #39;s strategy said yesterday.\",\"IPod Rivals Square Off Against Apple A new generation of smaller, sleeker and cheaper MP3 players from the likes of Sony, Rio, Creative and Rave MP are hitting the market this fall, and they all have Apple Computer #39;s white-hot digital music player in their sights.\",\"PeopleSoft sweetens employee compensation Business software maker PeopleSoft Friday said it was boosting compensation packages for all employees except its chief executive in a move that would raise the \",\"Panama flooding kills nine people At least nine people - seven of them children - have died in flooding in the capital of Panama. The authorities say at least 13 people are still missing after heavy rainfall caused rivers to break their banks.\",\"Pierce longs for old days Rusty Pierce has received lessons in pragmatism since joining the Revolution four years ago. Pierce has performed for teams that have inevitably turned to a direct, linear game, with little emphasis on creativity or imagination. The style paid off the last two seasons, but the Revolution might have overly relied on direct play in spending most of this ...\"],...,[\"US commercial crude oil reserves rise slightly US commercial crude oil inventories increased 800,000 barrels to 292.3 million in the week ending Nov. 12, the Energy Department reported Wednesday.\",\"SBC calling on cable SBC is teaming up with Microsoft to provide consumers with a new way to view television -- a move that puts it in direct competition with the cable TV industry.\",\"Mbeki calls for arms embargo, rebels vow to fight President Thabo Mbeki has urged all countries, including Ivory Coast #39;s neighbours, to immediately enforce a United Nations arms embargo on government and rebel forces in Ivory Coast.\",\"Safety First With Latest AOL 9.0 America Online (Quote, Chart) is bundling existing security features along with new ones for the Thursday launch of its AOL 9.0 software client, security edition.\",\"HONDA LINKED WITH BAR TAKEOVER BAR #39;s engine partner Honda is believed to be interested in purchasing the Brackley team and a deal could be done within the next 12 months.\",...,\"Heisman Horses Come Down to the Wire Entering the final week for Heisman Trophy voters to make their decision, the race has turned out tighter than it was believed to be last week.\",\"Yukos echo in Russian telco #39;s tax bill ALARM has spread through the Russian investment community as authorities slapped a tax bill of almost \\$US160 million (\\$210 million) on the number two mobile operator, in what is widely seen as a government-linked campaign against the firm.\",\"Wine Shipping Case Heard by Supreme Court The US Supreme Court heard arguments Tuesday in a case that could have a major impact on California #39;s wine industry. At issue is whether states can bar people from buying wine directly from out-of-state suppliers.\",\"Blair urged to launch Iraq death toll probe A group of former British diplomats, peers, scientists and church leaders will today urge Tony Blair to launch an inquiry into the death toll of the Iraq war.\",\"Palm OS for Linux? \\\\Today was a strange day for the Palm OS community:\\\\\"PalmSource also plans to implement Palm OS on top of Linux, bringing the\\benefits of Palm OS to the Linux community, including the award winning user\\interface, software frameworks based on the best of Palm OS and BeOS, a large\\base of professional and consumer applications, and an enthusiastic community\\of more than 25 million users and over 360,000 registered\\developers. PalmSource intends to work as a partner within the Linux community\\to help Linux grow rapidly in the consumer and enterprise mobile markets.\"\\\\This is a great decision!  A bit to late but not much so.  When Sharp released\\the Zaurus into the US market there was a lot o ...\\\\\"],[\"Ellison: Censorship ain't my problem When it comes to touting his company's software, Oracle CEO Larry Ellison is never one to mince words. But when it's the principle of free speech versus the almighty dollar, the bad boy of Silicon Valley is a veritable shrinking violet. Missing Links\",\"Company Trademark Rights Limited by US High Court (Update1) The US Supreme Court limited the scope of federal trademark protection, saying rival companies in some cases can use proprietary terms even when customers might be confused.\",\"Human error at EDS to blame for UK outage Electronic Data Systems has admitted that an error by one of its computer operators during a Microsoft Windows upgrade caused 40,000 PCs at the United Kingdom #39;s Department of Work and Pensions to crash last month.\",\"Linux groups patch image flaw com December 8, 2004, 2:48 PM PT. Several flaws in common Linux code used to process graphics in the GNOME desktop environment could allow an attacker to compromise a computer that \",\"Congress Passes Bill Allowing Space Tours (AP) AP - Outer space could become the final frontier of tourism under legislation passed Wednesday by the Senate to regulate commercial human spaceflight.\",...,\"Around the world Ukrainian presidential candidate Viktor Yushchenko was poisoned with the most harmful known dioxin, which is contained in Agent Orange, a scientist who analyzed his blood said Friday.\",\"Void is filled with Clement With the supply of attractive pitching options dwindling daily -- they lost Pedro Martinez to the Mets, missed on Tim Hudson, and are resigned to Randy Johnson becoming a Yankee -- the Red Sox struck again last night, coming to terms with free agent Matt Clement on a three-year deal that will pay the righthander in the neighborhood of \\$25 ...\",\"Martinez leaves bitter Like Roger Clemens did almost exactly eight years earlier, Pedro Martinez has left the Red Sox apparently bitter about the way he was treated by management.\",\"5 of arthritis patients in Singapore take Bextra or Celebrex &lt;b&gt;...&lt;/b&gt; SINGAPORE : Doctors in the United States have warned that painkillers Bextra and Celebrex may be linked to major cardiovascular problems and should not be prescribed.\",\"EBay gets into rentals EBay plans to buy the apartment and home rental service Rent.com for \\$415 million, adding to its already exhaustive breadth of offerings.\"]]\n",
       " label: [[2,3,3,3,3,...,1,1,1,3,0],[2,2,3,0,3,...,2,3,2,0,1],...,[2,2,0,3,1,...,1,2,2,0,3],[3,2,3,3,3,...,0,1,1,2,2]]}"
      ]
     },
     "execution_count": 6,
     "metadata": {},
     "output_type": "execute_result"
    }
   ],
   "source": [
    "newsWire.data"
   ]
  },
  {
   "cell_type": "code",
   "execution_count": null,
   "metadata": {
    "id": "hC5X9MZppUXT"
   },
   "outputs": [],
   "source": [
    "corpus = pd.DataFrame(columns=['text', 'label'])"
   ]
  },
  {
   "cell_type": "code",
   "execution_count": null,
   "metadata": {
    "id": "jGotLwvfpw49"
   },
   "outputs": [],
   "source": [
    "corpus['text'] = newsWire['train']['text']\n",
    "corpus['label'] = newsWire['train']['label']"
   ]
  },
  {
   "cell_type": "code",
   "execution_count": null,
   "metadata": {
    "id": "JfBly-ShpyNx"
   },
   "outputs": [],
   "source": [
    "test_corpus = pd.DataFrame(columns=['text', 'label'])"
   ]
  },
  {
   "cell_type": "code",
   "execution_count": null,
   "metadata": {
    "id": "sr1s58qTp2AV"
   },
   "outputs": [],
   "source": [
    "\n",
    "test_corpus['text'] = newsWire['test']['text']\n",
    "test_corpus['label'] = newsWire['test']['label']"
   ]
  },
  {
   "cell_type": "code",
   "execution_count": null,
   "metadata": {
    "colab": {
     "base_uri": "https://localhost:8080/",
     "height": 817
    },
    "id": "XWyRsccFp3qM",
    "outputId": "695ec19d-d1b7-41ea-ad1b-89167f9175ba"
   },
   "outputs": [
    {
     "data": {
      "application/vnd.google.colaboratory.intrinsic+json": {
       "type": "dataframe",
       "variable_name": "corpus"
      },
      "text/html": [
       "\n",
       "  <div id=\"df-0114453e-9e49-496a-bb7d-083511f94fdd\" class=\"colab-df-container\">\n",
       "    <div>\n",
       "<style scoped>\n",
       "    .dataframe tbody tr th:only-of-type {\n",
       "        vertical-align: middle;\n",
       "    }\n",
       "\n",
       "    .dataframe tbody tr th {\n",
       "        vertical-align: top;\n",
       "    }\n",
       "\n",
       "    .dataframe thead th {\n",
       "        text-align: right;\n",
       "    }\n",
       "</style>\n",
       "<table border=\"1\" class=\"dataframe\">\n",
       "  <thead>\n",
       "    <tr style=\"text-align: right;\">\n",
       "      <th></th>\n",
       "      <th>text</th>\n",
       "      <th>label</th>\n",
       "    </tr>\n",
       "  </thead>\n",
       "  <tbody>\n",
       "    <tr>\n",
       "      <th>0</th>\n",
       "      <td>Wall St. Bears Claw Back Into the Black (Reute...</td>\n",
       "      <td>2</td>\n",
       "    </tr>\n",
       "    <tr>\n",
       "      <th>1</th>\n",
       "      <td>Carlyle Looks Toward Commercial Aerospace (Reu...</td>\n",
       "      <td>2</td>\n",
       "    </tr>\n",
       "    <tr>\n",
       "      <th>2</th>\n",
       "      <td>Oil and Economy Cloud Stocks' Outlook (Reuters...</td>\n",
       "      <td>2</td>\n",
       "    </tr>\n",
       "    <tr>\n",
       "      <th>3</th>\n",
       "      <td>Iraq Halts Oil Exports from Main Southern Pipe...</td>\n",
       "      <td>2</td>\n",
       "    </tr>\n",
       "    <tr>\n",
       "      <th>4</th>\n",
       "      <td>Oil prices soar to all-time record, posing new...</td>\n",
       "      <td>2</td>\n",
       "    </tr>\n",
       "    <tr>\n",
       "      <th>5</th>\n",
       "      <td>Stocks End Up, But Near Year Lows (Reuters) Re...</td>\n",
       "      <td>2</td>\n",
       "    </tr>\n",
       "    <tr>\n",
       "      <th>6</th>\n",
       "      <td>Money Funds Fell in Latest Week (AP) AP - Asse...</td>\n",
       "      <td>2</td>\n",
       "    </tr>\n",
       "    <tr>\n",
       "      <th>7</th>\n",
       "      <td>Fed minutes show dissent over inflation (USATO...</td>\n",
       "      <td>2</td>\n",
       "    </tr>\n",
       "    <tr>\n",
       "      <th>8</th>\n",
       "      <td>Safety Net (Forbes.com) Forbes.com - After ear...</td>\n",
       "      <td>2</td>\n",
       "    </tr>\n",
       "    <tr>\n",
       "      <th>9</th>\n",
       "      <td>Wall St. Bears Claw Back Into the Black  NEW Y...</td>\n",
       "      <td>2</td>\n",
       "    </tr>\n",
       "    <tr>\n",
       "      <th>10</th>\n",
       "      <td>Oil and Economy Cloud Stocks' Outlook  NEW YOR...</td>\n",
       "      <td>2</td>\n",
       "    </tr>\n",
       "    <tr>\n",
       "      <th>11</th>\n",
       "      <td>No Need for OPEC to Pump More-Iran Gov  TEHRAN...</td>\n",
       "      <td>2</td>\n",
       "    </tr>\n",
       "    <tr>\n",
       "      <th>12</th>\n",
       "      <td>Non-OPEC Nations Should Up Output-Purnomo  JAK...</td>\n",
       "      <td>2</td>\n",
       "    </tr>\n",
       "    <tr>\n",
       "      <th>13</th>\n",
       "      <td>Google IPO Auction Off to Rocky Start  WASHING...</td>\n",
       "      <td>2</td>\n",
       "    </tr>\n",
       "    <tr>\n",
       "      <th>14</th>\n",
       "      <td>Dollar Falls Broadly on Record Trade Gap  NEW ...</td>\n",
       "      <td>2</td>\n",
       "    </tr>\n",
       "    <tr>\n",
       "      <th>15</th>\n",
       "      <td>Rescuing an Old Saver If you think you may nee...</td>\n",
       "      <td>2</td>\n",
       "    </tr>\n",
       "    <tr>\n",
       "      <th>16</th>\n",
       "      <td>Kids Rule for Back-to-School The purchasing po...</td>\n",
       "      <td>2</td>\n",
       "    </tr>\n",
       "    <tr>\n",
       "      <th>17</th>\n",
       "      <td>In a Down Market, Head Toward Value Funds Ther...</td>\n",
       "      <td>2</td>\n",
       "    </tr>\n",
       "    <tr>\n",
       "      <th>18</th>\n",
       "      <td>US trade deficit swells in June The US trade d...</td>\n",
       "      <td>2</td>\n",
       "    </tr>\n",
       "    <tr>\n",
       "      <th>19</th>\n",
       "      <td>Shell 'could be target for Total' Oil giant Sh...</td>\n",
       "      <td>2</td>\n",
       "    </tr>\n",
       "  </tbody>\n",
       "</table>\n",
       "</div>\n",
       "    <div class=\"colab-df-buttons\">\n",
       "\n",
       "  <div class=\"colab-df-container\">\n",
       "    <button class=\"colab-df-convert\" onclick=\"convertToInteractive('df-0114453e-9e49-496a-bb7d-083511f94fdd')\"\n",
       "            title=\"Convert this dataframe to an interactive table.\"\n",
       "            style=\"display:none;\">\n",
       "\n",
       "  <svg xmlns=\"http://www.w3.org/2000/svg\" height=\"24px\" viewBox=\"0 -960 960 960\">\n",
       "    <path d=\"M120-120v-720h720v720H120Zm60-500h600v-160H180v160Zm220 220h160v-160H400v160Zm0 220h160v-160H400v160ZM180-400h160v-160H180v160Zm440 0h160v-160H620v160ZM180-180h160v-160H180v160Zm440 0h160v-160H620v160Z\"/>\n",
       "  </svg>\n",
       "    </button>\n",
       "\n",
       "  <style>\n",
       "    .colab-df-container {\n",
       "      display:flex;\n",
       "      gap: 12px;\n",
       "    }\n",
       "\n",
       "    .colab-df-convert {\n",
       "      background-color: #E8F0FE;\n",
       "      border: none;\n",
       "      border-radius: 50%;\n",
       "      cursor: pointer;\n",
       "      display: none;\n",
       "      fill: #1967D2;\n",
       "      height: 32px;\n",
       "      padding: 0 0 0 0;\n",
       "      width: 32px;\n",
       "    }\n",
       "\n",
       "    .colab-df-convert:hover {\n",
       "      background-color: #E2EBFA;\n",
       "      box-shadow: 0px 1px 2px rgba(60, 64, 67, 0.3), 0px 1px 3px 1px rgba(60, 64, 67, 0.15);\n",
       "      fill: #174EA6;\n",
       "    }\n",
       "\n",
       "    .colab-df-buttons div {\n",
       "      margin-bottom: 4px;\n",
       "    }\n",
       "\n",
       "    [theme=dark] .colab-df-convert {\n",
       "      background-color: #3B4455;\n",
       "      fill: #D2E3FC;\n",
       "    }\n",
       "\n",
       "    [theme=dark] .colab-df-convert:hover {\n",
       "      background-color: #434B5C;\n",
       "      box-shadow: 0px 1px 3px 1px rgba(0, 0, 0, 0.15);\n",
       "      filter: drop-shadow(0px 1px 2px rgba(0, 0, 0, 0.3));\n",
       "      fill: #FFFFFF;\n",
       "    }\n",
       "  </style>\n",
       "\n",
       "    <script>\n",
       "      const buttonEl =\n",
       "        document.querySelector('#df-0114453e-9e49-496a-bb7d-083511f94fdd button.colab-df-convert');\n",
       "      buttonEl.style.display =\n",
       "        google.colab.kernel.accessAllowed ? 'block' : 'none';\n",
       "\n",
       "      async function convertToInteractive(key) {\n",
       "        const element = document.querySelector('#df-0114453e-9e49-496a-bb7d-083511f94fdd');\n",
       "        const dataTable =\n",
       "          await google.colab.kernel.invokeFunction('convertToInteractive',\n",
       "                                                    [key], {});\n",
       "        if (!dataTable) return;\n",
       "\n",
       "        const docLinkHtml = 'Like what you see? Visit the ' +\n",
       "          '<a target=\"_blank\" href=https://colab.research.google.com/notebooks/data_table.ipynb>data table notebook</a>'\n",
       "          + ' to learn more about interactive tables.';\n",
       "        element.innerHTML = '';\n",
       "        dataTable['output_type'] = 'display_data';\n",
       "        await google.colab.output.renderOutput(dataTable, element);\n",
       "        const docLink = document.createElement('div');\n",
       "        docLink.innerHTML = docLinkHtml;\n",
       "        element.appendChild(docLink);\n",
       "      }\n",
       "    </script>\n",
       "  </div>\n",
       "\n",
       "\n",
       "<div id=\"df-a5bb71a2-0c40-4243-9d65-07036e4a9fb2\">\n",
       "  <button class=\"colab-df-quickchart\" onclick=\"quickchart('df-a5bb71a2-0c40-4243-9d65-07036e4a9fb2')\"\n",
       "            title=\"Suggest charts\"\n",
       "            style=\"display:none;\">\n",
       "\n",
       "<svg xmlns=\"http://www.w3.org/2000/svg\" height=\"24px\"viewBox=\"0 0 24 24\"\n",
       "     width=\"24px\">\n",
       "    <g>\n",
       "        <path d=\"M19 3H5c-1.1 0-2 .9-2 2v14c0 1.1.9 2 2 2h14c1.1 0 2-.9 2-2V5c0-1.1-.9-2-2-2zM9 17H7v-7h2v7zm4 0h-2V7h2v10zm4 0h-2v-4h2v4z\"/>\n",
       "    </g>\n",
       "</svg>\n",
       "  </button>\n",
       "\n",
       "<style>\n",
       "  .colab-df-quickchart {\n",
       "      --bg-color: #E8F0FE;\n",
       "      --fill-color: #1967D2;\n",
       "      --hover-bg-color: #E2EBFA;\n",
       "      --hover-fill-color: #174EA6;\n",
       "      --disabled-fill-color: #AAA;\n",
       "      --disabled-bg-color: #DDD;\n",
       "  }\n",
       "\n",
       "  [theme=dark] .colab-df-quickchart {\n",
       "      --bg-color: #3B4455;\n",
       "      --fill-color: #D2E3FC;\n",
       "      --hover-bg-color: #434B5C;\n",
       "      --hover-fill-color: #FFFFFF;\n",
       "      --disabled-bg-color: #3B4455;\n",
       "      --disabled-fill-color: #666;\n",
       "  }\n",
       "\n",
       "  .colab-df-quickchart {\n",
       "    background-color: var(--bg-color);\n",
       "    border: none;\n",
       "    border-radius: 50%;\n",
       "    cursor: pointer;\n",
       "    display: none;\n",
       "    fill: var(--fill-color);\n",
       "    height: 32px;\n",
       "    padding: 0;\n",
       "    width: 32px;\n",
       "  }\n",
       "\n",
       "  .colab-df-quickchart:hover {\n",
       "    background-color: var(--hover-bg-color);\n",
       "    box-shadow: 0 1px 2px rgba(60, 64, 67, 0.3), 0 1px 3px 1px rgba(60, 64, 67, 0.15);\n",
       "    fill: var(--button-hover-fill-color);\n",
       "  }\n",
       "\n",
       "  .colab-df-quickchart-complete:disabled,\n",
       "  .colab-df-quickchart-complete:disabled:hover {\n",
       "    background-color: var(--disabled-bg-color);\n",
       "    fill: var(--disabled-fill-color);\n",
       "    box-shadow: none;\n",
       "  }\n",
       "\n",
       "  .colab-df-spinner {\n",
       "    border: 2px solid var(--fill-color);\n",
       "    border-color: transparent;\n",
       "    border-bottom-color: var(--fill-color);\n",
       "    animation:\n",
       "      spin 1s steps(1) infinite;\n",
       "  }\n",
       "\n",
       "  @keyframes spin {\n",
       "    0% {\n",
       "      border-color: transparent;\n",
       "      border-bottom-color: var(--fill-color);\n",
       "      border-left-color: var(--fill-color);\n",
       "    }\n",
       "    20% {\n",
       "      border-color: transparent;\n",
       "      border-left-color: var(--fill-color);\n",
       "      border-top-color: var(--fill-color);\n",
       "    }\n",
       "    30% {\n",
       "      border-color: transparent;\n",
       "      border-left-color: var(--fill-color);\n",
       "      border-top-color: var(--fill-color);\n",
       "      border-right-color: var(--fill-color);\n",
       "    }\n",
       "    40% {\n",
       "      border-color: transparent;\n",
       "      border-right-color: var(--fill-color);\n",
       "      border-top-color: var(--fill-color);\n",
       "    }\n",
       "    60% {\n",
       "      border-color: transparent;\n",
       "      border-right-color: var(--fill-color);\n",
       "    }\n",
       "    80% {\n",
       "      border-color: transparent;\n",
       "      border-right-color: var(--fill-color);\n",
       "      border-bottom-color: var(--fill-color);\n",
       "    }\n",
       "    90% {\n",
       "      border-color: transparent;\n",
       "      border-bottom-color: var(--fill-color);\n",
       "    }\n",
       "  }\n",
       "</style>\n",
       "\n",
       "  <script>\n",
       "    async function quickchart(key) {\n",
       "      const quickchartButtonEl =\n",
       "        document.querySelector('#' + key + ' button');\n",
       "      quickchartButtonEl.disabled = true;  // To prevent multiple clicks.\n",
       "      quickchartButtonEl.classList.add('colab-df-spinner');\n",
       "      try {\n",
       "        const charts = await google.colab.kernel.invokeFunction(\n",
       "            'suggestCharts', [key], {});\n",
       "      } catch (error) {\n",
       "        console.error('Error during call to suggestCharts:', error);\n",
       "      }\n",
       "      quickchartButtonEl.classList.remove('colab-df-spinner');\n",
       "      quickchartButtonEl.classList.add('colab-df-quickchart-complete');\n",
       "    }\n",
       "    (() => {\n",
       "      let quickchartButtonEl =\n",
       "        document.querySelector('#df-a5bb71a2-0c40-4243-9d65-07036e4a9fb2 button');\n",
       "      quickchartButtonEl.style.display =\n",
       "        google.colab.kernel.accessAllowed ? 'block' : 'none';\n",
       "    })();\n",
       "  </script>\n",
       "</div>\n",
       "\n",
       "    </div>\n",
       "  </div>\n"
      ],
      "text/plain": [
       "                                                 text  label\n",
       "0   Wall St. Bears Claw Back Into the Black (Reute...      2\n",
       "1   Carlyle Looks Toward Commercial Aerospace (Reu...      2\n",
       "2   Oil and Economy Cloud Stocks' Outlook (Reuters...      2\n",
       "3   Iraq Halts Oil Exports from Main Southern Pipe...      2\n",
       "4   Oil prices soar to all-time record, posing new...      2\n",
       "5   Stocks End Up, But Near Year Lows (Reuters) Re...      2\n",
       "6   Money Funds Fell in Latest Week (AP) AP - Asse...      2\n",
       "7   Fed minutes show dissent over inflation (USATO...      2\n",
       "8   Safety Net (Forbes.com) Forbes.com - After ear...      2\n",
       "9   Wall St. Bears Claw Back Into the Black  NEW Y...      2\n",
       "10  Oil and Economy Cloud Stocks' Outlook  NEW YOR...      2\n",
       "11  No Need for OPEC to Pump More-Iran Gov  TEHRAN...      2\n",
       "12  Non-OPEC Nations Should Up Output-Purnomo  JAK...      2\n",
       "13  Google IPO Auction Off to Rocky Start  WASHING...      2\n",
       "14  Dollar Falls Broadly on Record Trade Gap  NEW ...      2\n",
       "15  Rescuing an Old Saver If you think you may nee...      2\n",
       "16  Kids Rule for Back-to-School The purchasing po...      2\n",
       "17  In a Down Market, Head Toward Value Funds Ther...      2\n",
       "18  US trade deficit swells in June The US trade d...      2\n",
       "19  Shell 'could be target for Total' Oil giant Sh...      2"
      ]
     },
     "execution_count": 15,
     "metadata": {},
     "output_type": "execute_result"
    },
    {
     "data": {
      "text/html": [
       "<h4 class=\"colab-quickchart-section-title\">Time series</h4>\n",
       "<style>\n",
       "  .colab-quickchart-section-title {\n",
       "      clear: both;\n",
       "  }\n",
       "</style>"
      ],
      "text/plain": [
       "<google.colab._quickchart_helpers.SectionTitle at 0x7ade3c58f8e0>"
      ]
     },
     "metadata": {},
     "output_type": "display_data"
    },
    {
     "data": {
      "text/html": [
       "      <div class=\"colab-quickchart-chart-with-code\" id=\"chart-16d4ce7a-d70f-4bcb-8a24-4a97c3fa585a\">\n",
       "        <img style=\"width: 180px;\" src=\"data:image/png;base64,iVBORw0KGgoAAAANSUhEUgAAA/MAAAITCAYAAABLz0yVAAAAOXRFWHRTb2Z0d2FyZQBNYXRwbG90\n",
       "bGliIHZlcnNpb24zLjcuMSwgaHR0cHM6Ly9tYXRwbG90bGliLm9yZy/bCgiHAAAACXBIWXMAAA9h\n",
       "AAAPYQGoP6dpAAAwbklEQVR4nO3df5DX9YHf8dc3u2YtViFiDRAHGGXNDr8XhXLJCYPWwNFMQZtU\n",
       "JsTWEQcdcmOmGHNhMnJtaKVekAmX1NJUk9ixQ7WGeo4pJupMcT2ugRNBr3dY4LIQEIOhCIqysvDt\n",
       "H06+vQ0/ZGG/u7zJ4zHzmbCfX/v+zHu+fPL0+/1+qFSr1WoAAACAYnysrwcAAAAAdI+YBwAAgMKI\n",
       "eQAAACiMmAcAAIDCiHkAAAAojJgHAACAwoh5AAAAKIyYBwAAgML8Tsf8ihUr+noIAAAA0G2/0zG/\n",
       "Y8eOvh4CAAAAdNvvdMwDAABAicQ8AAAAFEbMAwAAQGHEPAAAABRGzAMAAEBhxDwAAAAURswDAABA\n",
       "YcQ8AAAAFEbMAwAAQGHEPAAAABRGzAMAAEBhxDwAAAAURswDAABAYcQ8AAAAFEbMAwAAQGHEPAAA\n",
       "ABRGzAMAAEBh6hbzhw8fzuzZs3P11Vdn3LhxufHGG7Nt27Ykyf33359Pf/rT+djHPpannnrqlOd5\n",
       "5pln0tLSkubm5tx88805ePDgaW0DAACA81Vd35mfP39+Xn/99WzevDmzZs3KHXfckST5R//oH2XN\n",
       "mjWZMmXKKY9/9913M2/evDz11FPZunVrhgwZkiVLlnzkNgAAADif1S3mL7zwwsycOTOVSiVJMnny\n",
       "5LS3tydJJk2alCuvvPIjz7FmzZq0trampaUlSbJgwYKsWrXqI7edSEdHRw4ePNhlOXr06NlcIgAA\n",
       "APSJXvvO/IoVKzJr1qxuHbNz584MGzas9vPw4cOzZ8+edHZ2nnLbiSxdujT9+/fvsqxfv/7MLgYA\n",
       "AAD6UK/E/P33359t27Zl6dKlvfHrTmjRokU5cOBAl2XSpEl9Nh4AAAA4U3WP+WXLlmX16tVZs2ZN\n",
       "+vXr161jhw4dmh07dtR+bm9vz+DBg9PY2HjKbSfS1NSUSy65pMvS0NBwZhcFAAAAfaiuMb98+fKs\n",
       "WrUqzz33XAYMGNDt42fMmJGNGzdmy5YtSZKHHnooc+bM+chtAAAAcD6rW8zv2rUr99xzT95+++1M\n",
       "mzYt48ePzz/8h/8wSfJv/s2/yRVXXJG/+Iu/yB133JErrrgib731VpJk8eLFWblyZZLk4osvzsMP\n",
       "P5zZs2dnxIgR2bVrV+67776P3AYAAADns0q1Wq329SD6ysKFC7N8+fK+HgYAAAB0S689zR4AAADo\n",
       "GWIeAAAACiPmAQAAoDBiHgAAAAoj5gEAAKAwYh4AAAAKI+YBAACgMGIeAAAACiPmAQAAoDBiHgAA\n",
       "AAoj5gEAAKAwYh4AAAAKI+YBAACgMGIeAAAACiPmAQAAoDBiHgAAAAoj5gEAAKAwYh4AAAAKI+YB\n",
       "AACgMGIeAAAACiPmAQAAoDBiHgAAAAoj5gEAAKAwYh4AAAAKI+YBAACgMGIeAAAACiPmAQAAoDBi\n",
       "HgAAAAoj5gEAAKAwYh4AAAAKI+YBAACgMGIeAAAACiPmAQAAoDBiHgAAAAoj5gEAAKAwYh4AAAAK\n",
       "I+YBAACgMGIeAAAACiPmAQAAoDBiHgAAAAoj5gEAAKAwYh4AAAAKI+YBAACgMGIeAAAACiPmAQAA\n",
       "oDB1i/nDhw9n9uzZufrqqzNu3LjceOON2bZtW5Jk7969mTFjRpqbmzN69Oi8+OKLJzzHT3/604wf\n",
       "P762DBkyJBMmTKhtr1QqGTNmTG17W1tbvS4HAAAAzhmN9Tz5/Pnz8wd/8AepVCr53ve+lzvuuCP/\n",
       "83/+z3zjG9/I5MmT8+yzz2bDhg256aab8otf/CIXXHBBl+OnT5+e6dOn137+/Oc/n2nTpnXZp62t\n",
       "LQMGDKjnZQAAAMA5pW7vzF944YWZOXNmKpVKkmTy5Mlpb29PkjzxxBO56667kiQTJ07MkCFDsnbt\n",
       "2lOe74033sgLL7yQW2+9tV5DBgAAgCLU9Z35v2vFihWZNWtW9u3blyNHjmTQoEG1bcOHD8/OnTtP\n",
       "efyPfvSjzJw5M5dffnmX9TfccEM6Oztzww03ZMmSJbnoootOeHxHR0c6Ojq6rDt69OgZXg0AAAD0\n",
       "nV55AN7999+fbdu2ZenSpWd0fLVazQ9+8IPMmzevy/odO3bk5Zdfzrp16/LWW2/l3nvvPek5li5d\n",
       "mv79+3dZ1q9ff0bjAQAAgL5U95hftmxZVq9enTVr1qRfv34ZOHBgGhsb8+abb9b2aW9vz9ChQ096\n",
       "jrVr1+bw4cNdvj+fpHbMRRddlAULFpzyAXiLFi3KgQMHuiyTJk06y6sDAACA3lfXmF++fHlWrVqV\n",
       "5557rstD6r74xS9m5cqVSZINGzZk9+7dmTp16knP88gjj+S2225LQ0NDbd3+/fvz3nvvJUmOHTuW\n",
       "xx9/PK2trSc9R1NTUy655JIuy989HwAAAJSibt+Z37VrV+65555ceeWVtSfQNzU15ec//3keeOCB\n",
       "3HrrrWlubs7HP/7xPPbYY7Un2S9evDhDhgypPSDvwIEDWb16dV577bUu59+yZUvuvPPOVCqVdHZ2\n",
       "ZsKECVmxYkW9LgcAAADOGZVqtVrt60H0lYULF2b58uV9PQwAAADoll55AB4AAADQc8Q8AAAAFEbM\n",
       "AwAAQGHEPAAAABRGzAMAAEBhxDwAAAAURswDAABAYcQ8AAAAFEbMAwAAQGHEPAAAABRGzAMAAEBh\n",
       "xDwAAAAURswDAABAYcQ8AAAAFEbMAwAAQGHEPAAAABRGzAMAAEBhxDwAAAAURswDAABAYcQ8AAAA\n",
       "FEbMAwAAQGHEPAAAABRGzAMAAEBhxDwAAAAURswDAABAYcQ8AAAAFEbMAwAAQGHEPAAAABRGzAMA\n",
       "AEBhxDwAAAAURswDAABAYcQ8AAAAFEbMAwAAQGHEPAAAABRGzAMAAEBhxDwAAAAURswDAABAYcQ8\n",
       "AAAAFEbMAwAAQGHEPAAAABRGzAMAAEBhxDwAAAAURswDAABAYcQ8AAAAFEbMAwAAQGHEPAAAABSm\n",
       "bjF/+PDhzJ49O1dffXXGjRuXG2+8Mdu2bUuS7N27NzNmzEhzc3NGjx6dF1988YTnaG9vT0NDQ8aP\n",
       "H19btm/fXtv+zDPPpKWlJc3Nzbn55ptz8ODBel0OAAAAnDPq+s78/Pnz8/rrr2fz5s2ZNWtW7rjj\n",
       "jiTJN77xjUyePDlbt27ND3/4w3zpS1/KkSNHTniOiy++OJs2baotV111VZLk3Xffzbx58/LUU09l\n",
       "69atGTJkSJYsWVLPywEAAIBzQt1i/sILL8zMmTNTqVSSJJMnT057e3uS5Iknnshdd92VJJk4cWKG\n",
       "DBmStWvXduv8a9asSWtra1paWpIkCxYsyKpVq066f0dHRw4ePNhlOXr06BlcGQAAAPStXvvO/IoV\n",
       "KzJr1qzs27cvR44cyaBBg2rbhg8fnp07d57wuEOHDmXixImZMGFCvvWtb9UCfOfOnRk2bFiXc+zZ\n",
       "syednZ0nPM/SpUvTv3//Lsv69et78AoBAACgd/RKzN9///3Ztm1bli5d2q3jBg8enN27d2fDhg15\n",
       "/vnn09bWlgcffPCMxrBo0aIcOHCgyzJp0qQzOhcAAAD0pbrH/LJly7J69eqsWbMm/fr1y8CBA9PY\n",
       "2Jg333yztk97e3uGDh163LFNTU25/PLLkySXXnppbr/99rS1tSVJhg4dmh07dnQ5x+DBg9PY2HjC\n",
       "cTQ1NeWSSy7psjQ0NPTkpQIAAECvqGvML1++PKtWrcpzzz2XAQMG1NZ/8YtfzMqVK5MkGzZsyO7d\n",
       "uzN16tTjjt+7d2/twXgdHR1ZvXp1WltbkyQzZszIxo0bs2XLliTJQw89lDlz5tTzcgAAAOCccOK3\n",
       "sXvArl27cs899+TKK6/MtGnTknz47vjPf/7zPPDAA7n11lvT3Nycj3/843nsscdywQUXJEkWL16c\n",
       "IUOG5K677spLL72UxYsXp6GhIZ2dnbn++uvzzW9+M8mHT7l/+OGHM3v27HR2dmb06NF59NFH63U5\n",
       "AAAAcM6oVKvVal8Poq8sXLgwy5cv7+thAAAAQLf02tPsAQAAgJ4h5gEAAKAwYh4AAAAKI+YBAACg\n",
       "MGIeAAAACiPmAQAAoDBiHgAAAAoj5gEAAKAwYh4AAAAKI+YBAACgMGIeAAAACiPmAQAAoDBiHgAA\n",
       "AAoj5gEAAKAwYh4AAAAKI+YBAACgMGIeAAAACiPmAQAAoDBiHgAAAAoj5gEAAKAwYh4AAAAKI+YB\n",
       "AACgMGIeAAAACiPmAQAAoDBiHgAAAAoj5gEAAKAwYh4AAAAKI+YBAACgMGIeAAAACiPmAQAAoDBi\n",
       "HgAAAAoj5gEAAKAwYh4AAAAKI+YBAACgMGIeAAAACiPmAQAAoDBiHgAAAAoj5gEAAKAwYh4AAAAK\n",
       "I+YBAACgMGIeAAAACiPmAQAAoDBiHgAAAAoj5gEAAKAwYh4AAAAKI+YBAACgMHWL+cOHD2f27Nm5\n",
       "+uqrM27cuNx4443Ztm1bkmTv3r2ZMWNGmpubM3r06Lz44osnPMdrr72WKVOmpKWlJaNHj87tt9+e\n",
       "999/v7a9UqlkzJgxGT9+fMaPH5+2trZ6XQ4AAACcM+r6zvz8+fPz+uuvZ/PmzZk1a1buuOOOJMk3\n",
       "vvGNTJ48OVu3bs0Pf/jDfOlLX8qRI0eOO/7CCy/M9773vWzZsiWbN2/OoUOH8sADD3TZp62tLZs2\n",
       "bcqmTZty3XXX1fNyAAAA4JxQt5i/8MILM3PmzFQqlSTJ5MmT097eniR54oknctdddyVJJk6cmCFD\n",
       "hmTt2rXHnaO5uTljx45NkjQ0NGTixIm1c3RXR0dHDh482GU5evToGZ0LAAAA+lKvfWd+xYoVmTVr\n",
       "Vvbt25cjR45k0KBBtW3Dhw/Pzp07T3n8oUOH8vDDD2fWrFld1t9www0ZN25cFi5cmEOHDp30+KVL\n",
       "l6Z///5dlvXr15/dRQEAAEAf6JWYv//++7Nt27YsXbr0jI7/4IMPcsstt+Rzn/tcbrrpptr6HTt2\n",
       "5OWXX866devy1ltv5d577z3pORYtWpQDBw50WSZNmnRG4wEAAIC+VPeYX7ZsWVavXp01a9akX79+\n",
       "GThwYBobG/Pmm2/W9mlvb8/QoUNPePyRI0dyyy23ZPDgwVmxYkWXbb855qKLLsqCBQtO+QC8pqam\n",
       "XHLJJV2WhoaGHrhCAAAA6F11jfnly5dn1apVee655zJgwIDa+i9+8YtZuXJlkmTDhg3ZvXt3pk6d\n",
       "etzxnZ2dmTNnTi699NJ8//vfr33/Pkn279+f9957L0ly7NixPP7442ltba3n5QAAAMA5obFeJ961\n",
       "a1fuueeeXHnllZk2bVqSD98d//nPf54HHnggt956a5qbm/Pxj388jz32WC644IIkyeLFizNkyJDc\n",
       "ddddefzxx7N69eqMHTu2Fuqf/exn8+///b/Pli1bcuedd6ZSqaSzszMTJkw47p17AAAAOB9VqtVq\n",
       "ta8H0VcWLlyY5cuX9/UwAAAAoFt67Wn2AAAAQM8Q8wAAAFAYMQ8AAACFEfMAAABQGDEPAAAAhRHz\n",
       "AAAAUBgxDwAAAIUR8wAAAFAYMQ8AAACFEfMAAABQGDEPAAAAhRHzAAAAUBgxDwAAAIUR8wAAAFAY\n",
       "MQ8AAACFEfMAAABQGDEPAAAAhRHzAAAAUBgxDwAAAIUR8wAAAFAYMQ8AAACFEfMAAABQGDEPAAAA\n",
       "hRHzAAAAUBgxDwAAAIUR8wAAAFAYMQ8AAACFEfMAAABQGDEPAAAAhRHzAAAAUBgxDwAAAIVpPJOD\n",
       "/vqv/zq7du3K3/t7fy9jxozJgAEDenhYAAAAwMmcdsy/8847WbZsWf7Tf/pP6devXz75yU/m8OHD\n",
       "2b59eyZNmpQ/+qM/yg033FDPsQIAAADpRsxPmzYt//yf//O88sor+eQnP1lbf+zYsbS1tWXlypXZ\n",
       "tm1b7rzzzroMFAAAAPjQacf8n//5n6epqem49R/72McyderUTJ06NR0dHT06OAAAAOB4p/0AvBOF\n",
       "/JnsAwAAAJyd0475z3/+81m3bt0Jt7399tt58MEH8x//43/ssYEBAAAAJ3baH7O///77s2jRovz1\n",
       "X/91Jk6cWHsA3pYtW7J79+585Stfye23317PsQIAAADpRsyPHTs2P/nJT/LLX/4ya9euza5du9Kv\n",
       "X7/MnTs3v//7v5/GxjP6V+4AAACAbup2ge/fvz9f/vKXu6x79dVXM3bs2B4bFAAAAHByp/2d+d+4\n",
       "7bbbTmsdAAAAUB+n/c783r178+abb+b999/Pa6+9lmq1miQ5cOBADh06VLcBAgAAAF2ddsyvWrUq\n",
       "3/nOd/LGG2/kn/yTf1Jb379//3z961+vy+AAAACA4512zH/1q1/NV7/61SxZsiT33XdfPccEAAAA\n",
       "nEK3H4B333335dixY3nzzTfT2dlZWz906NAeHRgAAABwYt1+AN6jjz6aAQMGZMyYMbnmmmtyzTXX\n",
       "5Nprrz1uv8OHD2f27Nm5+uqrM27cuNx4443Ztm1bkg+/fz9jxow0Nzdn9OjRefHFF0/6+5555pm0\n",
       "tLSkubk5N998cw4ePHha2wAAAOB81e2Y/9a3vpUNGzZk3759eeutt/LWW29l7969J9x3/vz5ef31\n",
       "17N58+bMmjUrd9xxR5LkG9/4RiZPnpytW7fmhz/8Yb70pS/lyJEjxx3/7rvvZt68eXnqqaeydevW\n",
       "DBkyJEuWLPnIbQAAAHA+63bMX3bZZfn0pz/9kftdeOGFmTlzZiqVSpJk8uTJaW9vT5I88cQTueuu\n",
       "u5IkEydOzJAhQ7J27drjzrFmzZq0trampaUlSbJgwYKsWrXqI7cBAADA+azbMT979ux85zvfyd69\n",
       "e3Pw4MHa8lFWrFiRWbNmZd++fTly5EgGDRpU2zZ8+PDs3LnzuGN27tyZYcOGddlvz5496ezsPOW2\n",
       "E+no6Ogy3oMHD+bo0aPduXQAAAA4J3T7AXjf/OY3kyQLFy5MpVJJtVpNpVI5ZRjff//92bZtW154\n",
       "4YW8//77Zz7as7B06dL863/9r7usmzx5cp+MBQAAAM5Gt9+ZP3bsWG05evRo7X9PZtmyZVm9enXW\n",
       "rFmTfv36ZeDAgWlsbMybb75Z26e9vf2ET8MfOnRoduzY0WW/wYMHp7Gx8ZTbTmTRokU5cOBAl2XS\n",
       "pEndvXwAAADoc92O+e5Yvnx5Vq1aleeeey4DBgyorf/iF7+YlStXJkk2bNiQ3bt3Z+rUqccdP2PG\n",
       "jGzcuDFbtmxJkjz00EOZM2fOR247kaamplxyySVdloaGhp66VAAAAOg13f6Y/cc+9rHaQ+3+rt9+\n",
       "d37Xrl255557cuWVV2batGlJPgzqn//853nggQdy6623prm5OR//+Mfz2GOP5YILLkiSLF68OEOG\n",
       "DMldd92Viy++OA8//HBmz56dzs7OjB49Oo8++miSnHIbAAAAnM8q1Wq12p0DDh06VPvz+++/n//8\n",
       "n/9zjh49mnvvvbfHB1dvCxcuzPLly/t6GAAAANAt3f6Y/UUXXVRbLrvssixcuDBPPvlkPcYGAAAA\n",
       "nMBZf2d+y5Yt+fWvf90TYwEAAABOQ7e/M/+JT3yi9p353/yb7t/97nd7dlQAAADASXU75jdt2vT/\n",
       "D25szKBBgzwVHgAAAHpRt2N+2LBhee+992pR/4lPfCL9+vXr6XEBAAAAJ9HtmF+3bl3+6T/9pxk0\n",
       "aFCS5Fe/+lV+/OMf5/d+7/d6fHAAAADA8bod8795ev1nP/vZJB/G/b/8l/8y/+t//a8eHxwAAABw\n",
       "vG4/zf7999+vhXySfOYzn8nhw4d7dFAAAADAyXU75v/+3//7ef7552s/v/DCC7nooot6dFAAAADA\n",
       "yXX7Y/Z/+qd/mptvvrn2BPtjx45l9erVPT4wAAAA4MS6HfNvvPFG/vIv/zK/+tWvkiSf/OQns379\n",
       "+h4fGAAAAHBi3f6Y/X333Zd/8A/+QUaPHp3Ro0fnsssuy3333VePsQEAAAAn0O2Y/22VSiVHjx7t\n",
       "ibEAAAAAp6HbMX/xxRdn3bp1tZ///M//PBdffHGPDgoAAAA4uW5/Z/5P/uRPctNNN6WlpSVJsnXr\n",
       "1vz3//7fe3xgAAAAwIl1O+Z/7/d+L3/zN3+Tv/iLv0jy4b8zP2DAgJ4eFwAAAHAS3Y75JPnEJz6R\n",
       "mTNn9vRYAAAAgNNw1g/AAwAAAHqXmAcAAIDCiHkAAAAojJgHAACAwoh5AAAAKIyYBwAAgMKIeQAA\n",
       "ACiMmAcAAIDCiHkAAAAojJgHAACAwoh5AAAAKIyYBwAAgMKIeQAAACiMmAcAAIDCiHkAAAAojJgH\n",
       "AACAwoh5AAAAKIyYBwAAgMKIeQAAACiMmAcAAIDCiHkAAAAojJgHAACAwoh5AAAAKIyYBwAAgMKI\n",
       "eQAAACiMmAcAAIDCiHkAAAAojJgHAACAwoh5AAAAKExdY/7uu+/O8OHDU6lUsmnTptr6Z599Ntde\n",
       "e23Gjh2byZMnZ/PmzSc8/qc//WnGjx9fW4YMGZIJEybUtlcqlYwZM6a2va2trZ6XAwAAAOeExnqe\n",
       "/Atf+EK+/vWv5/d///dr6/bv35+5c+fmxRdfzKhRo9LW1pa5c+fmr/7qr447fvr06Zk+fXrt589/\n",
       "/vOZNm1al33a2toyYMCAul0DAAAAnGvqGvNTpkw5bt327dszcODAjBo1Kkly3XXXZefOndm4cWOX\n",
       "d91/2xtvvJEXXnghP/jBD85oLB0dHeno6Oiy7ujRo2d0LgAAAOhLvf6d+ebm5uzbty/r1q1Lkjz9\n",
       "9NN555130t7efsrjfvSjH2XmzJm5/PLLu6y/4YYbMm7cuCxcuDCHDh066fFLly5N//79uyzr168/\n",
       "6+sBAACA3tbrMd+/f/88+eSTWbRoUa655pr87Gc/y8iRI9PYePIPCVSr1fzgBz/IvHnzuqzfsWNH\n",
       "Xn755axbty5vvfVW7r333pOeY9GiRTlw4ECXZdKkST12XQAAANBb6vox+5OZNm1a7bvvHR0dGTRo\n",
       "UEaOHHnS/deuXZvDhw93+f58kgwdOjRJctFFF2XBggWZP3/+Sc/R1NSUpqamLusaGhrO9BIAAACg\n",
       "z/TJP023Z8+e2p+XLFmS66+/PiNGjDjp/o888khuu+22LvG9f//+vPfee0mSY8eO5fHHH09ra2v9\n",
       "Bg0AAADniLrG/J133pkrrrgiu3btyvTp02vBvnjx4rS0tGTEiBHZsWNHHnnkkdoxixcvzsqVK2s/\n",
       "HzhwIKtXr87tt9/e5dxbtmzJ5MmTM27cuIwZMyb79u3Ld77znXpeDgAAAJwTKtVqtdrXg+grCxcu\n",
       "zPLly/t6GAAAANAtffIxewAAAODMiXkAAAAojJgHAACAwoh5AAAAKIyYBwAAgMKIeQAAACiMmAcA\n",
       "AIDCiHkAAAAojJgHAACAwoh5AAAAKIyYBwAAgMKIeQAAACiMmAcAAIDCiHkAAAAojJgHAACAwoh5\n",
       "AAAAKIyYBwAAgMKIeQAAACiMmAcAAIDCiHkAAAAojJgHAACAwoh5AAAAKIyYBwAAgMKIeQAAACiM\n",
       "mAcAAIDCiHkAAAAojJgHAACAwoh5AAAAKIyYBwAAgMKIeQAAACiMmAcAAIDCiHkAAAAojJgHAACA\n",
       "woh5AAAAKIyYBwAAgMKIeQAAACiMmAcAAIDCiHkAAAAojJgHAACAwoh5AAAAKIyYBwAAgMKIeQAA\n",
       "ACiMmAcAAIDCiHkAAAAojJgHAACAwtQ15u++++4MHz48lUolmzZtqq1/9tlnc+2112bs2LGZPHly\n",
       "Nm/efMLj29vb09DQkPHjx9eW7du317Y/88wzaWlpSXNzc26++eYcPHiwnpcDAAAA54S6xvwXvvCF\n",
       "vPTSSxk2bFht3f79+zN37tw8+uijefXVV/Ptb387c+fOPek5Lr744mzatKm2XHXVVUmSd999N/Pm\n",
       "zctTTz2VrVu3ZsiQIVmyZEk9LwcAAADOCXWN+SlTpuSKK67osm779u0ZOHBgRo0alSS57rrrsnPn\n",
       "zmzcuLFb516zZk1aW1vT0tKSJFmwYEFWrVrVMwMHAACAc1ivf2e+ubk5+/bty7p165IkTz/9dN55\n",
       "5520t7efcP9Dhw5l4sSJmTBhQr71rW/l6NGjSZKdO3d2ecd/+PDh2bNnTzo7O094no6Ojhw8eLDL\n",
       "8ptzAQAAQEl6Peb79++fJ598MosWLco111yTn/3sZxk5cmQaGxuP23fw4MHZvXt3NmzYkOeffz5t\n",
       "bW158MEHz+j3Ll26NP379++yrF+//mwvBwAAAHpdnzzNftq0aVm7dm1efvnlPPjgg3njjTcycuTI\n",
       "4/ZramrK5ZdfniS59NJLc/vtt6etrS1JMnTo0OzYsaO2b3t7ewYPHnzC/yiQJIsWLcqBAwe6LJMm\n",
       "TarD1QEAAEB99UnM79mzp/bnJUuW5Prrr8+IESOO22/v3r05cuRIkg8/Jr969eq0trYmSWbMmJGN\n",
       "Gzdmy5YtSZKHHnooc+bMOenvbGpqyiWXXNJlaWho6MnLAgAAgF5R15i/8847c8UVV2TXrl2ZPn16\n",
       "LdgXL16clpaWjBgxIjt27MgjjzxSO2bx4sVZuXJlkuSll15Ka2trxo0blwkTJmTQoEH55je/meTD\n",
       "p9w//PDDmT17dkaMGJFdu3blvvvuq+flAAAAwDmhUq1Wq309iL6ycOHCLF++vK+HAQAAAN3SJx+z\n",
       "BwAAAM6cmAcAAIDCiHkAAAAojJgHAACAwoh5AAAAKIyYBwAAgMKIeQAAACiMmAcAAIDCiHkAAAAo\n",
       "jJgHAACAwoh5AAAAKIyYBwAAgMKIeQAAACiMmAcAAIDCiHkAAAAojJgHAACAwoh5AAAAKIyYBwAA\n",
       "gMKIeQAAACiMmAcAAIDCiHkAAAAojJgHAACAwoh5AAAAKIyYBwAAgMKIeQAAACiMmAcAAIDCiHkA\n",
       "AAAojJgHAACAwoh5AAAAKIyYBwAAgMKIeQAAACiMmAcAAIDCiHkAAAAojJgHAACAwoh5AAAAKIyY\n",
       "BwAAgMKIeQAAACiMmAcAAIDCiHkAAAAojJgHAACAwoh5AAAAKIyYBwAAgMKIeQAAACiMmAcAAIDC\n",
       "iHkAAAAojJgHAACAwtQ15u++++4MHz48lUolmzZtqq1/9tlnc+2112bs2LGZPHlyNm/efMLjX3vt\n",
       "tUyZMiUtLS0ZPXp0br/99rz//vu17ZVKJWPGjMn48eMzfvz4tLW11fNyAAAA4JxQ15j/whe+kJde\n",
       "einDhg2rrdu/f3/mzp2bRx99NK+++mq+/e1vZ+7cuSc8/sILL8z3vve9bNmyJZs3b86hQ4fywAMP\n",
       "dNmnra0tmzZtyqZNm3LdddfV83IAAADgnNBYz5NPmTLluHXbt2/PwIEDM2rUqCTJddddl507d2bj\n",
       "xo2ZMGFCl32bm5trf25oaMjEiRPzV3/1V2c0lo6OjnR0dHRZd/To0TM6FwAAAPSlXv/OfHNzc/bt\n",
       "25d169YlSZ5++um88847aW9vP+Vxhw4dysMPP5xZs2Z1WX/DDTdk3LhxWbhwYQ4dOnTS45cuXZr+\n",
       "/ft3WdavX3/W1wMAAAC9rddjvn///nnyySezaNGiXHPNNfnZz36WkSNHprHx5B8S+OCDD3LLLbfk\n",
       "c5/7XG666aba+h07duTll1/OunXr8tZbb+Xee+896TkWLVqUAwcOdFkmTZrUo9cGAAAAvaGuH7M/\n",
       "mWnTpmXatGlJPvz4+6BBgzJy5MgT7nvkyJHccsstGTx4cFasWNFl29ChQ5MkF110URYsWJD58+ef\n",
       "9Hc2NTWlqampy7qGhoazuQwAAADoE33yT9Pt2bOn9uclS5bk+uuvz4gRI47br7OzM3PmzMmll16a\n",
       "73//+6lUKrVt+/fvz3vvvZckOXbsWB5//PG0trbWf/AAAADQx+oa83feeWeuuOKK7Nq1K9OnT68F\n",
       "++LFi9PS0pIRI0Zkx44deeSRR2rHLF68OCtXrkySPP7441m9enX+8i//Mq2trRk/fny+8pWvJEm2\n",
       "bNmSyZMnZ9y4cRkzZkz27duX73znO/W8HAAAADgnVKrVarWvB9FXFi5cmOXLl/f1MAAAAKBb+uRj\n",
       "9gAAAMCZE/MAAABQGDEPAAAAhRHzAAAAUBgxDwAAAIUR8wAAAFAYMQ8AAACFEfMAAABQGDEPAAAA\n",
       "hRHzAAAAUBgxDwAAAIUR8wAAAFAYMQ8AAACFEfMAAABQGDEPAAAAhRHzAAAAUBgxDwAAAIUR8wAA\n",
       "AFAYMQ8AAACFEfMAAABQGDEPAAAAhRHzAAAAUBgxDwAAAIUR8wAAAFAYMQ8AAACFEfMAAABQGDEP\n",
       "AAAAhRHzAAAAUBgxDwAAAIUR8wAAAFAYMQ8AAACFEfMAAABQGDEPAAAAhRHzAAAAUBgxDwAAAIUR\n",
       "8wAAAFAYMQ8AAACFEfMAAABQGDEPAAAAhRHzAAAAUBgxDwAAAIUR8wAAAFAYMQ8AAACFEfMAAABQ\n",
       "GDEPAAAAhRHzAAAAUJi6xvzdd9+d4cOHp1KpZNOmTbX1zz77bK699tqMHTs2kydPzubNm096jmee\n",
       "eSYtLS1pbm7OzTffnIMHD57WNgAAADhf1TXmv/CFL+Sll17KsGHDauv279+fuXPn5tFHH82rr76a\n",
       "b3/725k7d+4Jj3/33Xczb968PPXUU9m6dWuGDBmSJUuWfOQ2AAAAOJ/VNeanTJmSK664osu67du3\n",
       "Z+DAgRk1alSS5LrrrsvOnTuzcePG445fs2ZNWltb09LSkiRZsGBBVq1a9ZHbTqSjoyMHDx7sshw9\n",
       "erRHrhMAAAB6U69/Z765uTn79u3LunXrkiRPP/103nnnnbS3tx+3786dO7u8qz98+PDs2bMnnZ2d\n",
       "p9x2IkuXLk3//v27LOvXr+/ZiwMAAIBe0Osx379//zz55JNZtGhRrrnmmvzsZz/LyJEj09jYWNff\n",
       "u2jRohw4cKDLMmnSpLr+TgAAAKiH+hb0SUybNi3Tpk1L8uHH3wcNGpSRI0cet9/QoUPz3HPP1X5u\n",
       "b2/P4MGD09jYeMptJ9LU1JSmpqYu6xoaGnricgAAAKBX9ck/Tbdnz57an5csWZLrr78+I0aMOG6/\n",
       "GTNmZOPGjdmyZUuS5KGHHsqcOXM+chsAAACcz+oa83feeWeuuOKK7Nq1K9OnT68F++LFi9PS0pIR\n",
       "I0Zkx44deeSRR2rHLF68OCtXrkySXHzxxXn44Ycze/bsjBgxIrt27cp99933kdsAAADgfFapVqvV\n",
       "vh5EX1m4cGGWL1/e18MAAACAbumTj9kDAAAAZ07MAwAAQGHEPAAAABRGzAMAAEBhxDwAAAAURswD\n",
       "AABAYcQ8AAAAFEbMAwAAQGHEPAAAABRGzAMAAEBhxDwAAAAURswDAABAYcQ8AAAAFEbMAwAAQGHE\n",
       "PAAAABRGzAMAAEBhKtVqtdrXg+grN998c4YPH97Xw/hIR48ezfr16zNp0qQ0NDT09XA4CfNUDnNV\n",
       "DnNVBvNUDnNVDnNVBvNUjtLmatiwYfnqV796yn1+p2O+FAcPHkz//v1z4MCBXHLJJX09HE7CPJXD\n",
       "XJXDXJXBPJXDXJXDXJXBPJXjfJwrH7MHAACAwoh5AAAAKIyYBwAAgMKI+QI0NTXlj//4j9PU1NTX\n",
       "Q+EUzFM5zFU5zFUZzFM5zFU5zFUZzFM5zse58gA8AAAAKIx35gEAAKAwYh4AAAAKI+YBAACgMGK+\n",
       "F919990ZPnx4KpVKNm3adMJ9jh07lq997WsZPXp0WlpaMm/evHzwwQe17c8880xaWlrS3Nycm2++\n",
       "OQcPHjytbXTP2c7Va6+9lilTpqSlpSWjR4/O7bffnvfff792bKVSyZgxYzJ+/PiMHz8+bW1tvXFZ\n",
       "552znaf29vY0NDTU5mH8+PHZvn177VivqZ5ztnP105/+tMs8DRkyJBMmTKgd6zXVMw4fPpzZs2fn\n",
       "6quvzrhx43LjjTdm27ZtJ9z3TO9HXlc9oyfmyr2qd/TEXLlf1V9PzJN7Ve843bl69913M3369Fx2\n",
       "2WUZMGDAcdvPi3tVlV6zdu3a6i9/+cvqsGHDqq+88soJ9/n+979fnTZtWrWjo6N67Nix6h133FH9\n",
       "kz/5k2q1Wq2+88471csvv7z6N3/zN9VqtVr9yle+Uv3a1772kdvovrOdq//zf/5PdfPmzdVqtVrt\n",
       "7Oys/rN/9s+qf/zHf1w7Nkl1//79db6K89/ZztMvfvGLav/+/U94nNdUzzrbufpt//gf/+PqsmXL\n",
       "aj97TfWM999/v/qTn/ykeuzYsWq1Wq1+97vfrU6dOvW4/c70fuR11XN6Yq7cq3pHT8yV+1X99cQ8\n",
       "/Tb3qvo43bk6fPhw9YUXXqi+8sorx71+zpd7lZjvA6f6P7Nf+cpXqv/23/7b2s8//vGPq2PGjKlW\n",
       "q9XqE088UZ0+fXpt2//+3/+7+qlPfeojt3HmznSuftu3v/3t6r/4F/+i9rO/zHvWmc7Tqf7PkddU\n",
       "ffTEa2r37t3VCy+8sPqrX/2qts5rqj42bNhQHTZs2HHrz/R+5HVVP2cyV7/Nvap3nMlcuV/1vrN9\n",
       "TblX9Z6TzdVvnOj1c77cq3zM/hxzzTXX5Omnn87Bgwdz5MiRPPHEE2lvb0+S7Ny5M8OGDavtO3z4\n",
       "8OzZsyednZ2n3EZ9nGqu/q5Dhw7l4YcfzqxZs7qsv+GGGzJu3LgsXLgwhw4d6qVR/+75qHk6dOhQ\n",
       "Jk6cmAkTJuRb3/pWjh49muTUrzfq43RfUz/60Y8yc+bMXH755V3We031vBUrVhz3d1dy5vcjr6v6\n",
       "OZO5+rvcq3rPmc6V+1XvOtvXlHtV7znZXJ3K+XKvEvPnmNtuuy0zZszI1KlTM3Xq1Fx99dVpbGzs\n",
       "62FxAqczVx988EFuueWWfO5zn8tNN91UW79jx468/PLLWbduXd56663ce++9vT383xmnmqfBgwdn\n",
       "9+7d2bBhQ55//vm0tbXlwQcf7OMR/+46nddUtVrND37wg8ybN6/Leq+pnnf//fdn27ZtWbp0aV8P\n",
       "hY9wtnPlXtV7znSu3K9619m+ptyres/v+r1KzJ9jKpVK/tW/+ld55ZVXsm7duowcOTKjRo1Kkgwd\n",
       "OjQ7duyo7dve3p7BgwensbHxlNuoj1PNVZIcOXIkt9xySwYPHpwVK1Z0OXbo0KFJkosuuigLFizw\n",
       "AJQ6OtU8NTU11f6L+aWXXprbb7+9NhdeU73vo15TSbJ27docPnw406dP77Lea6pnLVu2LKtXr86a\n",
       "NWvSr1+/47af6f3I66rnnc1cJe5Vvels5sr9qvec7Wsqca/qLR81V6dyvtyrxPw55vDhw9m/f3+S\n",
       "5Ne//nX+3b/7d/n617+eJJkxY0Y2btyYLVu2JEkeeuihzJkz5yO3UR+nmqvOzs7MmTMnl156ab7/\n",
       "/e+nUqnUjtu/f3/ee++9JB8+vfvxxx9Pa2tr71/A74hTzdPevXtz5MiRJElHR0dWr15dmwuvqd53\n",
       "qrn6jUceeSS33XZbGhoaauu8pnrW8uXLs2rVqjz33HMnfPpvcub3I6+rnnW2c+Ve1XvOdq7cr3rH\n",
       "2c7Tb7hX1d/pzNWpnDf3qr7+0v7vkvnz51c/9alPVRsaGqqXX3559aqrrqpWq9XqvHnzqn/2Z39W\n",
       "rVar1TfffLPa0tJSHTlyZLWlpaX6H/7Df+hyjj/7sz+rfvrTn65eddVV1VmzZlXffvvt09pG95zt\n",
       "XD322GPVJNWxY8dWx40bVx03blx1wYIF1Wq1Wl23bl11zJgx1bFjx1ZHjhxZ/fKXv1zdt29f71/k\n",
       "eeBs5+nHP/5xddSoUbW5+MM//MPq4cOHa9u9pnpOT/z99/bbb1f79etX3b59e5f1XlM955e//GU1\n",
       "SfXKK6+s/d01adKkarVard53331d5uRM70deVz2jJ+bKvap39MRcuV/VX0/9/edeVX/dmasxY8ZU\n",
       "Bw0aVK1UKtVPfepT1S9/+cu1befDvapSrVarffjfEgAAAIBu8jF7AAAAKIyYBwAAgMKIeQAAACiM\n",
       "mAcAjlOpVPL222/32H5/V3t7+xk9fRgA+P/EPAAAABRGzAMAp/S1r30tEydOzPjx4zNlypS8/vrr\n",
       "XbYvW7Ysra2tufrqq/Nf/st/qa3fsGFDrr/++lx77bVpbW3Nf/tv/623hw4A563Gvh4AAHBu+6M/\n",
       "+qMsW7YsSfJf/+t/zVe/+tU8++yzte2VSiWvvPJK/vZv/zbXXnttPvvZz2bAgAGZP39+/sf/+B8Z\n",
       "PHhwfv3rX2fChAn5zGc+01eXAQDnFTEPAJzSc889l+9+97t55513cuzYsfzf//t/u2y/4447kiRX\n",
       "XnllpkyZkhdffDGXXXZZ/vZv/zZ/8Ad/0GXf119/PVdeeWWvjR0AzldiHgA4qZ07d+YP//APs2HD\n",
       "hlx11VV59dVXM2XKlFMeU6lUUq1WM2rUqKxbt+647e3t7XUaLQD87vCdeQDgpA4cOJALLrgggwcP\n",
       "TrVazfe+973j9vnhD3+Y5MNIb2try3XXXZfPfOYz+cUvfpHnn3++tt+mTZvywQcf9NrYAeB85p15\n",
       "AOCkxowZkzlz5mTUqFEZOHBgZs+efdw+R48eTWtraw4dOpQ//dM/zfDhw5MkP/nJT/K1r30t99xz\n",
       "T44cOZKhQ4fmqaee6tXxA8D5qlKtVqt9PQgAAADg9PmYPQAAABRGzAMAAEBhxDwAAAAURswDAABA\n",
       "YcQ8AAAAFEbMAwAAQGHEPAAAABRGzAMAAEBhxDwAAAAURswDAABAYf4fxWkXQy8TC3cAAAAASUVO\n",
       "RK5CYII=\n",
       "\">\n",
       "      </div>\n",
       "      <script type=\"text/javascript\">\n",
       "        (() => {\n",
       "          const chartElement = document.getElementById(\"chart-16d4ce7a-d70f-4bcb-8a24-4a97c3fa585a\");\n",
       "          async function getCodeForChartHandler(event) {\n",
       "            const chartCodeResponse =  await google.colab.kernel.invokeFunction(\n",
       "                'getCodeForChart', [\"chart-16d4ce7a-d70f-4bcb-8a24-4a97c3fa585a\"], {});\n",
       "            const responseJson = chartCodeResponse.data['application/json'];\n",
       "            await google.colab.notebook.addCell(responseJson.code, 'code');\n",
       "          }\n",
       "          chartElement.onclick = getCodeForChartHandler;\n",
       "        })();\n",
       "      </script>\n",
       "      <style>\n",
       "        .colab-quickchart-chart-with-code  {\n",
       "            display: block;\n",
       "            float: left;\n",
       "            border: 1px solid transparent;\n",
       "        }\n",
       "\n",
       "        .colab-quickchart-chart-with-code:hover {\n",
       "            cursor: pointer;\n",
       "            border: 1px solid #aaa;\n",
       "        }\n",
       "      </style>"
      ],
      "text/plain": [
       "from matplotlib import pyplot as plt\n",
       "import seaborn as sns\n",
       "def _plot_series(series, series_name, series_index=0):\n",
       "  palette = list(sns.palettes.mpl_palette('Dark2'))\n",
       "  counted = (series['label']\n",
       "                .value_counts()\n",
       "              .reset_index(name='counts')\n",
       "              .rename({'index': 'label'}, axis=1)\n",
       "              .sort_values('label', ascending=True))\n",
       "  xs = counted['label']\n",
       "  ys = counted['counts']\n",
       "  plt.plot(xs, ys, label=series_name, color=palette[series_index % len(palette)])\n",
       "\n",
       "fig, ax = plt.subplots(figsize=(10, 5.2), layout='constrained')\n",
       "df_sorted = _df_4.sort_values('label', ascending=True)\n",
       "_plot_series(df_sorted, '')\n",
       "sns.despine(fig=fig, ax=ax)\n",
       "plt.xlabel('label')\n",
       "_ = plt.ylabel('count()')"
      ]
     },
     "metadata": {},
     "output_type": "display_data"
    }
   ],
   "source": [
    "corpus.head(20)"
   ]
  },
  {
   "cell_type": "code",
   "execution_count": null,
   "metadata": {
    "colab": {
     "base_uri": "https://localhost:8080/",
     "height": 1203
    },
    "id": "S0C2zN6Np5Ez",
    "outputId": "3155dc9f-5ee3-4ca5-e536-8db4f6088efb"
   },
   "outputs": [
    {
     "data": {
      "application/vnd.google.colaboratory.intrinsic+json": {
       "summary": "{\n  \"name\": \"test_corpus\",\n  \"rows\": 7600,\n  \"fields\": [\n    {\n      \"column\": \"text\",\n      \"properties\": {\n        \"dtype\": \"string\",\n        \"num_unique_values\": 7600,\n        \"samples\": [\n          \"Fan v Fan: Manchester City-Tottenham Hotspur This weekend Manchester City entertain Spurs, and with last seasons seven-goal FA Cup epic between the two teams still fresh in the memory, entertain could be the operative word.\",\n          \"Paris Tourists Search for Key to 'Da Vinci Code' (Reuters) Reuters - A funny thing happened on the way to the\\\\Mona Lisa. Visitors to the Louvre museum in Paris, home of the\\\\world's most famous painting, started quizzing tour guides\\\\about Dan Brown's best-selling novel \\\"The Da Vinci Code.\\\"\",\n          \"Net firms: Don't tax VoIP The Spanish-American War is over and a \\\"temporary\\\" tax created to pay for it should not be extended to Internet phone calls, industry groups tell the IRS\"\n        ],\n        \"semantic_type\": \"\",\n        \"description\": \"\"\n      }\n    },\n    {\n      \"column\": \"label\",\n      \"properties\": {\n        \"dtype\": \"number\",\n        \"std\": 1,\n        \"min\": 0,\n        \"max\": 3,\n        \"num_unique_values\": 4,\n        \"samples\": [\n          3,\n          0,\n          2\n        ],\n        \"semantic_type\": \"\",\n        \"description\": \"\"\n      }\n    }\n  ]\n}",
       "type": "dataframe",
       "variable_name": "test_corpus"
      },
      "text/html": [
       "\n",
       "  <div id=\"df-47127f1b-b64c-4b25-9f87-7320cc8bdf6e\" class=\"colab-df-container\">\n",
       "    <div>\n",
       "<style scoped>\n",
       "    .dataframe tbody tr th:only-of-type {\n",
       "        vertical-align: middle;\n",
       "    }\n",
       "\n",
       "    .dataframe tbody tr th {\n",
       "        vertical-align: top;\n",
       "    }\n",
       "\n",
       "    .dataframe thead th {\n",
       "        text-align: right;\n",
       "    }\n",
       "</style>\n",
       "<table border=\"1\" class=\"dataframe\">\n",
       "  <thead>\n",
       "    <tr style=\"text-align: right;\">\n",
       "      <th></th>\n",
       "      <th>text</th>\n",
       "      <th>label</th>\n",
       "    </tr>\n",
       "  </thead>\n",
       "  <tbody>\n",
       "    <tr>\n",
       "      <th>0</th>\n",
       "      <td>Fears for T N pension after talks Unions repre...</td>\n",
       "      <td>2</td>\n",
       "    </tr>\n",
       "    <tr>\n",
       "      <th>1</th>\n",
       "      <td>The Race is On: Second Private Team Sets Launc...</td>\n",
       "      <td>3</td>\n",
       "    </tr>\n",
       "    <tr>\n",
       "      <th>2</th>\n",
       "      <td>Ky. Company Wins Grant to Study Peptides (AP) ...</td>\n",
       "      <td>3</td>\n",
       "    </tr>\n",
       "    <tr>\n",
       "      <th>3</th>\n",
       "      <td>Prediction Unit Helps Forecast Wildfires (AP) ...</td>\n",
       "      <td>3</td>\n",
       "    </tr>\n",
       "    <tr>\n",
       "      <th>4</th>\n",
       "      <td>Calif. Aims to Limit Farm-Related Smog (AP) AP...</td>\n",
       "      <td>3</td>\n",
       "    </tr>\n",
       "    <tr>\n",
       "      <th>5</th>\n",
       "      <td>Open Letter Against British Copyright Indoctri...</td>\n",
       "      <td>3</td>\n",
       "    </tr>\n",
       "    <tr>\n",
       "      <th>6</th>\n",
       "      <td>Loosing the War on Terrorism \\\\\"Sven Jaschan, ...</td>\n",
       "      <td>3</td>\n",
       "    </tr>\n",
       "    <tr>\n",
       "      <th>7</th>\n",
       "      <td>FOAFKey: FOAF, PGP, Key Distribution, and Bloo...</td>\n",
       "      <td>3</td>\n",
       "    </tr>\n",
       "    <tr>\n",
       "      <th>8</th>\n",
       "      <td>E-mail scam targets police chief Wiltshire Pol...</td>\n",
       "      <td>3</td>\n",
       "    </tr>\n",
       "    <tr>\n",
       "      <th>9</th>\n",
       "      <td>Card fraud unit nets 36,000 cards In its first...</td>\n",
       "      <td>3</td>\n",
       "    </tr>\n",
       "    <tr>\n",
       "      <th>10</th>\n",
       "      <td>Group to Propose New High-Speed Wireless Forma...</td>\n",
       "      <td>3</td>\n",
       "    </tr>\n",
       "    <tr>\n",
       "      <th>11</th>\n",
       "      <td>Apple Launches Graphics Software, Video Bundle...</td>\n",
       "      <td>3</td>\n",
       "    </tr>\n",
       "    <tr>\n",
       "      <th>12</th>\n",
       "      <td>Dutch Retailer Beats Apple to Local Download M...</td>\n",
       "      <td>3</td>\n",
       "    </tr>\n",
       "    <tr>\n",
       "      <th>13</th>\n",
       "      <td>Super ant colony hits Australia A giant 100km ...</td>\n",
       "      <td>3</td>\n",
       "    </tr>\n",
       "    <tr>\n",
       "      <th>14</th>\n",
       "      <td>Socialites unite dolphin groups Dolphin groups...</td>\n",
       "      <td>3</td>\n",
       "    </tr>\n",
       "  </tbody>\n",
       "</table>\n",
       "</div>\n",
       "    <div class=\"colab-df-buttons\">\n",
       "\n",
       "  <div class=\"colab-df-container\">\n",
       "    <button class=\"colab-df-convert\" onclick=\"convertToInteractive('df-47127f1b-b64c-4b25-9f87-7320cc8bdf6e')\"\n",
       "            title=\"Convert this dataframe to an interactive table.\"\n",
       "            style=\"display:none;\">\n",
       "\n",
       "  <svg xmlns=\"http://www.w3.org/2000/svg\" height=\"24px\" viewBox=\"0 -960 960 960\">\n",
       "    <path d=\"M120-120v-720h720v720H120Zm60-500h600v-160H180v160Zm220 220h160v-160H400v160Zm0 220h160v-160H400v160ZM180-400h160v-160H180v160Zm440 0h160v-160H620v160ZM180-180h160v-160H180v160Zm440 0h160v-160H620v160Z\"/>\n",
       "  </svg>\n",
       "    </button>\n",
       "\n",
       "  <style>\n",
       "    .colab-df-container {\n",
       "      display:flex;\n",
       "      gap: 12px;\n",
       "    }\n",
       "\n",
       "    .colab-df-convert {\n",
       "      background-color: #E8F0FE;\n",
       "      border: none;\n",
       "      border-radius: 50%;\n",
       "      cursor: pointer;\n",
       "      display: none;\n",
       "      fill: #1967D2;\n",
       "      height: 32px;\n",
       "      padding: 0 0 0 0;\n",
       "      width: 32px;\n",
       "    }\n",
       "\n",
       "    .colab-df-convert:hover {\n",
       "      background-color: #E2EBFA;\n",
       "      box-shadow: 0px 1px 2px rgba(60, 64, 67, 0.3), 0px 1px 3px 1px rgba(60, 64, 67, 0.15);\n",
       "      fill: #174EA6;\n",
       "    }\n",
       "\n",
       "    .colab-df-buttons div {\n",
       "      margin-bottom: 4px;\n",
       "    }\n",
       "\n",
       "    [theme=dark] .colab-df-convert {\n",
       "      background-color: #3B4455;\n",
       "      fill: #D2E3FC;\n",
       "    }\n",
       "\n",
       "    [theme=dark] .colab-df-convert:hover {\n",
       "      background-color: #434B5C;\n",
       "      box-shadow: 0px 1px 3px 1px rgba(0, 0, 0, 0.15);\n",
       "      filter: drop-shadow(0px 1px 2px rgba(0, 0, 0, 0.3));\n",
       "      fill: #FFFFFF;\n",
       "    }\n",
       "  </style>\n",
       "\n",
       "    <script>\n",
       "      const buttonEl =\n",
       "        document.querySelector('#df-47127f1b-b64c-4b25-9f87-7320cc8bdf6e button.colab-df-convert');\n",
       "      buttonEl.style.display =\n",
       "        google.colab.kernel.accessAllowed ? 'block' : 'none';\n",
       "\n",
       "      async function convertToInteractive(key) {\n",
       "        const element = document.querySelector('#df-47127f1b-b64c-4b25-9f87-7320cc8bdf6e');\n",
       "        const dataTable =\n",
       "          await google.colab.kernel.invokeFunction('convertToInteractive',\n",
       "                                                    [key], {});\n",
       "        if (!dataTable) return;\n",
       "\n",
       "        const docLinkHtml = 'Like what you see? Visit the ' +\n",
       "          '<a target=\"_blank\" href=https://colab.research.google.com/notebooks/data_table.ipynb>data table notebook</a>'\n",
       "          + ' to learn more about interactive tables.';\n",
       "        element.innerHTML = '';\n",
       "        dataTable['output_type'] = 'display_data';\n",
       "        await google.colab.output.renderOutput(dataTable, element);\n",
       "        const docLink = document.createElement('div');\n",
       "        docLink.innerHTML = docLinkHtml;\n",
       "        element.appendChild(docLink);\n",
       "      }\n",
       "    </script>\n",
       "  </div>\n",
       "\n",
       "\n",
       "<div id=\"df-213ba017-d882-43cb-aa38-104ce973ec53\">\n",
       "  <button class=\"colab-df-quickchart\" onclick=\"quickchart('df-213ba017-d882-43cb-aa38-104ce973ec53')\"\n",
       "            title=\"Suggest charts\"\n",
       "            style=\"display:none;\">\n",
       "\n",
       "<svg xmlns=\"http://www.w3.org/2000/svg\" height=\"24px\"viewBox=\"0 0 24 24\"\n",
       "     width=\"24px\">\n",
       "    <g>\n",
       "        <path d=\"M19 3H5c-1.1 0-2 .9-2 2v14c0 1.1.9 2 2 2h14c1.1 0 2-.9 2-2V5c0-1.1-.9-2-2-2zM9 17H7v-7h2v7zm4 0h-2V7h2v10zm4 0h-2v-4h2v4z\"/>\n",
       "    </g>\n",
       "</svg>\n",
       "  </button>\n",
       "\n",
       "<style>\n",
       "  .colab-df-quickchart {\n",
       "      --bg-color: #E8F0FE;\n",
       "      --fill-color: #1967D2;\n",
       "      --hover-bg-color: #E2EBFA;\n",
       "      --hover-fill-color: #174EA6;\n",
       "      --disabled-fill-color: #AAA;\n",
       "      --disabled-bg-color: #DDD;\n",
       "  }\n",
       "\n",
       "  [theme=dark] .colab-df-quickchart {\n",
       "      --bg-color: #3B4455;\n",
       "      --fill-color: #D2E3FC;\n",
       "      --hover-bg-color: #434B5C;\n",
       "      --hover-fill-color: #FFFFFF;\n",
       "      --disabled-bg-color: #3B4455;\n",
       "      --disabled-fill-color: #666;\n",
       "  }\n",
       "\n",
       "  .colab-df-quickchart {\n",
       "    background-color: var(--bg-color);\n",
       "    border: none;\n",
       "    border-radius: 50%;\n",
       "    cursor: pointer;\n",
       "    display: none;\n",
       "    fill: var(--fill-color);\n",
       "    height: 32px;\n",
       "    padding: 0;\n",
       "    width: 32px;\n",
       "  }\n",
       "\n",
       "  .colab-df-quickchart:hover {\n",
       "    background-color: var(--hover-bg-color);\n",
       "    box-shadow: 0 1px 2px rgba(60, 64, 67, 0.3), 0 1px 3px 1px rgba(60, 64, 67, 0.15);\n",
       "    fill: var(--button-hover-fill-color);\n",
       "  }\n",
       "\n",
       "  .colab-df-quickchart-complete:disabled,\n",
       "  .colab-df-quickchart-complete:disabled:hover {\n",
       "    background-color: var(--disabled-bg-color);\n",
       "    fill: var(--disabled-fill-color);\n",
       "    box-shadow: none;\n",
       "  }\n",
       "\n",
       "  .colab-df-spinner {\n",
       "    border: 2px solid var(--fill-color);\n",
       "    border-color: transparent;\n",
       "    border-bottom-color: var(--fill-color);\n",
       "    animation:\n",
       "      spin 1s steps(1) infinite;\n",
       "  }\n",
       "\n",
       "  @keyframes spin {\n",
       "    0% {\n",
       "      border-color: transparent;\n",
       "      border-bottom-color: var(--fill-color);\n",
       "      border-left-color: var(--fill-color);\n",
       "    }\n",
       "    20% {\n",
       "      border-color: transparent;\n",
       "      border-left-color: var(--fill-color);\n",
       "      border-top-color: var(--fill-color);\n",
       "    }\n",
       "    30% {\n",
       "      border-color: transparent;\n",
       "      border-left-color: var(--fill-color);\n",
       "      border-top-color: var(--fill-color);\n",
       "      border-right-color: var(--fill-color);\n",
       "    }\n",
       "    40% {\n",
       "      border-color: transparent;\n",
       "      border-right-color: var(--fill-color);\n",
       "      border-top-color: var(--fill-color);\n",
       "    }\n",
       "    60% {\n",
       "      border-color: transparent;\n",
       "      border-right-color: var(--fill-color);\n",
       "    }\n",
       "    80% {\n",
       "      border-color: transparent;\n",
       "      border-right-color: var(--fill-color);\n",
       "      border-bottom-color: var(--fill-color);\n",
       "    }\n",
       "    90% {\n",
       "      border-color: transparent;\n",
       "      border-bottom-color: var(--fill-color);\n",
       "    }\n",
       "  }\n",
       "</style>\n",
       "\n",
       "  <script>\n",
       "    async function quickchart(key) {\n",
       "      const quickchartButtonEl =\n",
       "        document.querySelector('#' + key + ' button');\n",
       "      quickchartButtonEl.disabled = true;  // To prevent multiple clicks.\n",
       "      quickchartButtonEl.classList.add('colab-df-spinner');\n",
       "      try {\n",
       "        const charts = await google.colab.kernel.invokeFunction(\n",
       "            'suggestCharts', [key], {});\n",
       "      } catch (error) {\n",
       "        console.error('Error during call to suggestCharts:', error);\n",
       "      }\n",
       "      quickchartButtonEl.classList.remove('colab-df-spinner');\n",
       "      quickchartButtonEl.classList.add('colab-df-quickchart-complete');\n",
       "    }\n",
       "    (() => {\n",
       "      let quickchartButtonEl =\n",
       "        document.querySelector('#df-213ba017-d882-43cb-aa38-104ce973ec53 button');\n",
       "      quickchartButtonEl.style.display =\n",
       "        google.colab.kernel.accessAllowed ? 'block' : 'none';\n",
       "    })();\n",
       "  </script>\n",
       "</div>\n",
       "\n",
       "    </div>\n",
       "  </div>\n"
      ],
      "text/plain": [
       "                                                 text  label\n",
       "0   Fears for T N pension after talks Unions repre...      2\n",
       "1   The Race is On: Second Private Team Sets Launc...      3\n",
       "2   Ky. Company Wins Grant to Study Peptides (AP) ...      3\n",
       "3   Prediction Unit Helps Forecast Wildfires (AP) ...      3\n",
       "4   Calif. Aims to Limit Farm-Related Smog (AP) AP...      3\n",
       "5   Open Letter Against British Copyright Indoctri...      3\n",
       "6   Loosing the War on Terrorism \\\\\"Sven Jaschan, ...      3\n",
       "7   FOAFKey: FOAF, PGP, Key Distribution, and Bloo...      3\n",
       "8   E-mail scam targets police chief Wiltshire Pol...      3\n",
       "9   Card fraud unit nets 36,000 cards In its first...      3\n",
       "10  Group to Propose New High-Speed Wireless Forma...      3\n",
       "11  Apple Launches Graphics Software, Video Bundle...      3\n",
       "12  Dutch Retailer Beats Apple to Local Download M...      3\n",
       "13  Super ant colony hits Australia A giant 100km ...      3\n",
       "14  Socialites unite dolphin groups Dolphin groups...      3"
      ]
     },
     "execution_count": 16,
     "metadata": {},
     "output_type": "execute_result"
    }
   ],
   "source": [
    "test_corpus.head(15)"
   ]
  },
  {
   "cell_type": "code",
   "execution_count": null,
   "metadata": {
    "colab": {
     "base_uri": "https://localhost:8080/"
    },
    "id": "aauvv_Cbp6ez",
    "outputId": "1de78071-1d70-42a0-b475-be9a983f0c25"
   },
   "outputs": [
    {
     "data": {
      "text/plain": [
       "label\n",
       "2    30000\n",
       "3    30000\n",
       "1    30000\n",
       "0    30000\n",
       "Name: count, dtype: int64"
      ]
     },
     "execution_count": 13,
     "metadata": {},
     "output_type": "execute_result"
    }
   ],
   "source": [
    "corpus['label'].value_counts()"
   ]
  },
  {
   "cell_type": "markdown",
   "metadata": {
    "id": "hnKZuuaL4eXS"
   },
   "source": [
    "## Pre Process both training and validation data to be used accordingly in tensorflow"
   ]
  },
  {
   "cell_type": "code",
   "execution_count": null,
   "metadata": {
    "id": "qppdp9nSqJwz"
   },
   "outputs": [],
   "source": [
    "sequence_len = 512\n",
    "\n",
    "train_samples = len(corpus)\n",
    "test_samples = len(test_corpus)\n",
    "\n",
    "train_ids_x = np.zeros((train_samples, sequence_len))\n",
    "train_masks_x = np.zeros((train_samples, sequence_len))\n",
    "\n",
    "test_ids_x = np.zeros((test_samples, sequence_len))\n",
    "test_masks_x = np.zeros((test_samples, sequence_len))"
   ]
  },
  {
   "cell_type": "code",
   "execution_count": null,
   "metadata": {
    "id": "BLlKe9mtr01L"
   },
   "outputs": [],
   "source": [
    "bert_tokenizer = BertTokenizer.from_pretrained('bert-base-uncased', do_lower_case = True)"
   ]
  },
  {
   "cell_type": "code",
   "execution_count": null,
   "metadata": {
    "id": "NYvhisqbr2gq"
   },
   "outputs": [],
   "source": [
    "for i, text in enumerate(corpus['text']):\n",
    "    tokens = bert_tokenizer.encode_plus(text, max_length=sequence_len, truncation=True, padding='max_length', add_special_tokens=True, return_tensors='tf')\n",
    "    train_ids_x[i, :] = tokens['input_ids']\n",
    "    train_masks_x[i, :] = tokens['attention_mask']\n",
    "\n",
    "for i, text in enumerate(test_corpus['text']):\n",
    "    tokens = bert_tokenizer.encode_plus(text, max_length=sequence_len, truncation=True, padding='max_length', add_special_tokens=True, return_tensors='tf')\n",
    "    test_ids_x[i, :] = tokens['input_ids']\n",
    "    test_masks_x[i, :] = tokens['attention_mask']"
   ]
  },
  {
   "cell_type": "code",
   "execution_count": null,
   "metadata": {
    "id": "VJ7RMS0ttNl0"
   },
   "outputs": [],
   "source": [
    "train_labels_array = corpus['label'].values\n",
    "test_labels_array = test_corpus['label'].values"
   ]
  },
  {
   "cell_type": "code",
   "execution_count": null,
   "metadata": {
    "colab": {
     "base_uri": "https://localhost:8080/"
    },
    "id": "JmoMNWeW85pR",
    "outputId": "d1a60635-9a3c-4dfb-9187-fea4b86f5d7f"
   },
   "outputs": [
    {
     "data": {
      "text/plain": [
       "array([0, 1, 2, 3])"
      ]
     },
     "execution_count": 18,
     "metadata": {},
     "output_type": "execute_result"
    }
   ],
   "source": [
    "np.unique(train_labels_array)"
   ]
  },
  {
   "cell_type": "code",
   "execution_count": null,
   "metadata": {
    "colab": {
     "base_uri": "https://localhost:8080/"
    },
    "id": "S6V5i3vh8r7z",
    "outputId": "14e1d9cc-42a4-4b5f-80be-6e9a7318ef61"
   },
   "outputs": [
    {
     "data": {
      "text/plain": [
       "array([0, 1, 2, 3])"
      ]
     },
     "execution_count": 19,
     "metadata": {},
     "output_type": "execute_result"
    }
   ],
   "source": [
    "np.unique(test_labels_array)"
   ]
  },
  {
   "cell_type": "code",
   "execution_count": null,
   "metadata": {
    "id": "dX1tRrbatTFL"
   },
   "outputs": [],
   "source": [
    "#Encoding the samples for the text using one-hot encoding\n",
    "train_labels = np.zeros((train_samples, len(np.unique(train_labels_array))))\n",
    "train_labels[np.arange(train_samples), train_labels_array-1] = 1\n",
    "\n",
    "test_labels = np.zeros((test_samples, len(np.unique(test_labels_array))))\n",
    "test_labels[np.arange(test_samples), test_labels_array-1] = 1"
   ]
  },
  {
   "cell_type": "code",
   "execution_count": null,
   "metadata": {
    "colab": {
     "base_uri": "https://localhost:8080/"
    },
    "id": "oqJy-uOvtUgg",
    "outputId": "2d1a7509-c21b-4a54-8e4c-73bcabeafef3"
   },
   "outputs": [
    {
     "data": {
      "text/plain": [
       "(7600, 4)"
      ]
     },
     "execution_count": 21,
     "metadata": {},
     "output_type": "execute_result"
    }
   ],
   "source": [
    "test_labels.shape"
   ]
  },
  {
   "cell_type": "code",
   "execution_count": null,
   "metadata": {
    "id": "C2JpNEIrtWd6"
   },
   "outputs": [],
   "source": [
    "#create a tensorflow dataset using the data\n",
    "train_data = tf.data.Dataset.from_tensor_slices((train_ids_x, train_masks_x, train_labels))\n",
    "test_data = tf.data.Dataset.from_tensor_slices((test_ids_x, test_masks_x, test_labels))"
   ]
  },
  {
   "cell_type": "code",
   "execution_count": null,
   "metadata": {
    "colab": {
     "base_uri": "https://localhost:8080/"
    },
    "id": "fnR6KJWk8gbc",
    "outputId": "6b28de23-8f6b-45d0-dd37-9a4e07a54e00"
   },
   "outputs": [
    {
     "data": {
      "text/plain": [
       "<_TensorSliceDataset element_spec=(TensorSpec(shape=(512,), dtype=tf.float64, name=None), TensorSpec(shape=(512,), dtype=tf.float64, name=None), TensorSpec(shape=(4,), dtype=tf.float64, name=None))>"
      ]
     },
     "execution_count": 23,
     "metadata": {},
     "output_type": "execute_result"
    }
   ],
   "source": [
    "train_data"
   ]
  },
  {
   "cell_type": "code",
   "execution_count": null,
   "metadata": {
    "id": "WC9g7mR2taP0"
   },
   "outputs": [],
   "source": [
    "#change the shape of the data to be accepted by tf as input and labels\n",
    "def mapper(ids, masks, labels):\n",
    "  return {'ids': ids, 'masks':masks }, labels\n",
    "\n",
    "train_data = train_data.map(mapper)\n",
    "test_data = test_data.map(mapper)"
   ]
  },
  {
   "cell_type": "code",
   "execution_count": null,
   "metadata": {
    "colab": {
     "base_uri": "https://localhost:8080/"
    },
    "id": "txwjLL6z-gYf",
    "outputId": "3b208b87-dd72-4e5b-9455-74f3f800f25f"
   },
   "outputs": [
    {
     "data": {
      "text/plain": [
       "<_MapDataset element_spec=({'ids': TensorSpec(shape=(512,), dtype=tf.float64, name=None), 'masks': TensorSpec(shape=(512,), dtype=tf.float64, name=None)}, TensorSpec(shape=(4,), dtype=tf.float64, name=None))>"
      ]
     },
     "execution_count": 25,
     "metadata": {},
     "output_type": "execute_result"
    }
   ],
   "source": [
    "train_data"
   ]
  },
  {
   "cell_type": "code",
   "execution_count": null,
   "metadata": {
    "id": "495Qx6fQxt5q"
   },
   "outputs": [],
   "source": [
    "#create batches out of all the data for batch training\n",
    "batch_size = 32\n",
    "train_data = train_data.batch(batch_size, drop_remainder=True)\n",
    "test_data = test_data.batch(batch_size, drop_remainder=True)"
   ]
  },
  {
   "cell_type": "code",
   "execution_count": null,
   "metadata": {
    "colab": {
     "base_uri": "https://localhost:8080/"
    },
    "id": "QZyJnLbxNLql",
    "outputId": "f2bd3cdd-3028-43b0-f1ad-731e2938363d"
   },
   "outputs": [
    {
     "data": {
      "text/plain": [
       "<_TakeDataset element_spec=({'ids': TensorSpec(shape=(32, 512), dtype=tf.float64, name=None), 'masks': TensorSpec(shape=(32, 512), dtype=tf.float64, name=None)}, TensorSpec(shape=(32, 4), dtype=tf.float64, name=None))>"
      ]
     },
     "execution_count": 27,
     "metadata": {},
     "output_type": "execute_result"
    }
   ],
   "source": [
    "train_data.take(1)"
   ]
  },
  {
   "cell_type": "markdown",
   "metadata": {
    "id": "4yYHHH9g_srF"
   },
   "source": [
    "Build the models"
   ]
  },
  {
   "cell_type": "code",
   "execution_count": null,
   "metadata": {
    "colab": {
     "base_uri": "https://localhost:8080/"
    },
    "id": "OZx1uEoKAAGR",
    "outputId": "c6384f29-d1fa-43a1-bf8e-d4b9b9f04bf2"
   },
   "outputs": [
    {
     "name": "stderr",
     "output_type": "stream",
     "text": [
      "Some weights of the PyTorch model were not used when initializing the TF 2.0 model TFBertModel: ['cls.predictions.bias', 'cls.seq_relationship.weight', 'cls.seq_relationship.bias', 'cls.predictions.transform.dense.weight', 'cls.predictions.transform.LayerNorm.bias', 'cls.predictions.transform.LayerNorm.weight', 'cls.predictions.transform.dense.bias']\n",
      "- This IS expected if you are initializing TFBertModel from a PyTorch model trained on another task or with another architecture (e.g. initializing a TFBertForSequenceClassification model from a BertForPreTraining model).\n",
      "- This IS NOT expected if you are initializing TFBertModel from a PyTorch model that you expect to be exactly identical (e.g. initializing a TFBertForSequenceClassification model from a BertForSequenceClassification model).\n",
      "All the weights of TFBertModel were initialized from the PyTorch model.\n",
      "If your task is similar to the task the model of the checkpoint was trained on, you can already use TFBertModel for predictions without further training.\n"
     ]
    }
   ],
   "source": [
    "BERT = TFAutoModel.from_pretrained('bert-base-uncased')"
   ]
  },
  {
   "cell_type": "code",
   "execution_count": null,
   "metadata": {
    "colab": {
     "base_uri": "https://localhost:8080/"
    },
    "id": "5C8ktTrPAJDp",
    "outputId": "2b06e7dd-54eb-4c31-ad78-de83fb169b63"
   },
   "outputs": [
    {
     "name": "stdout",
     "output_type": "stream",
     "text": [
      "Model: \"tf_bert_model\"\n",
      "_________________________________________________________________\n",
      " Layer (type)                Output Shape              Param #   \n",
      "=================================================================\n",
      " bert (TFBertMainLayer)      multiple                  109482240 \n",
      "                                                                 \n",
      "=================================================================\n",
      "Total params: 109482240 (417.64 MB)\n",
      "Trainable params: 109482240 (417.64 MB)\n",
      "Non-trainable params: 0 (0.00 Byte)\n",
      "_________________________________________________________________\n"
     ]
    }
   ],
   "source": [
    "BERT.summary()"
   ]
  },
  {
   "cell_type": "code",
   "execution_count": null,
   "metadata": {
    "colab": {
     "base_uri": "https://localhost:8080/"
    },
    "id": "bcfSe-neAjip",
    "outputId": "fda43ad3-e112-48f0-8147-cead0de98c60"
   },
   "outputs": [
    {
     "name": "stderr",
     "output_type": "stream",
     "text": [
      "Some weights of BertForSequenceClassification were not initialized from the model checkpoint at bert-base-uncased and are newly initialized: ['classifier.bias', 'classifier.weight']\n",
      "You should probably TRAIN this model on a down-stream task to be able to use it for predictions and inference.\n"
     ]
    }
   ],
   "source": [
    "BERT2 = BertForSequenceClassification.from_pretrained(\"bert-base-uncased\",\n",
    "                                                      num_labels=len(np.unique(train_labels_array)),\n",
    "                                                      output_attentions=False,\n",
    "                                                      output_hidden_states=False)"
   ]
  },
  {
   "cell_type": "markdown",
   "metadata": {
    "id": "h2EoSUMxZqmg"
   },
   "source": [
    "### Create the input layers"
   ]
  },
  {
   "cell_type": "code",
   "execution_count": null,
   "metadata": {
    "id": "l4XKtd_KAsTZ"
   },
   "outputs": [],
   "source": [
    "inputs = tf.keras.layers.Input(shape=(sequence_len,), name='ids', dtype='int32')\n",
    "attention_masks = tf.keras.layers.Input(shape=(sequence_len,), name='masks', dtype='int32')"
   ]
  },
  {
   "cell_type": "code",
   "execution_count": null,
   "metadata": {
    "id": "ZclPrbmIZ8da"
   },
   "outputs": [],
   "source": [
    "#Use the transformer to get the embeddings for the inputs\n",
    "#getting the 2d tensors\n",
    "embeddings = BERT.bert(inputs, attention_mask=attention_masks)[1]"
   ]
  },
  {
   "cell_type": "code",
   "execution_count": null,
   "metadata": {
    "colab": {
     "base_uri": "https://localhost:8080/"
    },
    "id": "BPxV01KZX_An",
    "outputId": "4171fa72-2d27-4585-b565-9ae5ad2f8ee3"
   },
   "outputs": [
    {
     "data": {
      "text/plain": [
       "<KerasTensor: shape=(None, 768) dtype=float32 (created by layer 'bert')>"
      ]
     },
     "execution_count": 33,
     "metadata": {},
     "output_type": "execute_result"
    }
   ],
   "source": [
    "embeddings"
   ]
  },
  {
   "cell_type": "code",
   "execution_count": null,
   "metadata": {
    "id": "wC-mXh5dLqKF"
   },
   "outputs": [],
   "source": [
    "#Set up the dense layer and the\n",
    "dense_layer_1 = tf.keras.layers.Dense(1024, activation = 'relu')(embeddings)\n",
    "output_layer = tf.keras.layers.Dense(len(np.unique(train_labels_array)), activation = 'softmax', name='output_layer')(dense_layer_1)"
   ]
  },
  {
   "cell_type": "code",
   "execution_count": null,
   "metadata": {
    "id": "8SkzVwa0MlLo"
   },
   "outputs": [],
   "source": [
    "model = tf.keras.Model(inputs=[inputs, attention_masks], outputs = output_layer)"
   ]
  },
  {
   "cell_type": "code",
   "execution_count": null,
   "metadata": {
    "colab": {
     "base_uri": "https://localhost:8080/"
    },
    "id": "aOuG3Y65O-v_",
    "outputId": "cbd1215e-4e2b-41fa-e94e-495b65fd89ff"
   },
   "outputs": [
    {
     "name": "stdout",
     "output_type": "stream",
     "text": [
      "Model: \"model\"\n",
      "__________________________________________________________________________________________________\n",
      " Layer (type)                Output Shape                 Param #   Connected to                  \n",
      "==================================================================================================\n",
      " ids (InputLayer)            [(None, 512)]                0         []                            \n",
      "                                                                                                  \n",
      " masks (InputLayer)          [(None, 512)]                0         []                            \n",
      "                                                                                                  \n",
      " bert (TFBertMainLayer)      TFBaseModelOutputWithPooli   1094822   ['ids[0][0]',                 \n",
      "                             ngAndCrossAttentions(last_   40         'masks[0][0]']               \n",
      "                             hidden_state=(None, 512, 7                                           \n",
      "                             68),                                                                 \n",
      "                              pooler_output=(None, 768)                                           \n",
      "                             , past_key_values=None, hi                                           \n",
      "                             dden_states=None, attentio                                           \n",
      "                             ns=None, cross_attentions=                                           \n",
      "                             None)                                                                \n",
      "                                                                                                  \n",
      " dense (Dense)               (None, 1024)                 787456    ['bert[0][1]']                \n",
      "                                                                                                  \n",
      " output_layer (Dense)        (None, 4)                    4100      ['dense[0][0]']               \n",
      "                                                                                                  \n",
      "==================================================================================================\n",
      "Total params: 110273796 (420.66 MB)\n",
      "Trainable params: 110273796 (420.66 MB)\n",
      "Non-trainable params: 0 (0.00 Byte)\n",
      "__________________________________________________________________________________________________\n"
     ]
    }
   ],
   "source": [
    "model.summary()"
   ]
  },
  {
   "cell_type": "code",
   "execution_count": null,
   "metadata": {
    "id": "Ncfr7rw7PsZP"
   },
   "outputs": [],
   "source": [
    "#Optimizer to reduce the cross entropy loss\n",
    "#Setting up the metrics\n",
    "adam_optimizer = tf.keras.optimizers.Adam(learning_rate=1e-5)\n",
    "loss = tf.keras.losses.CategoricalCrossentropy()\n",
    "acc = tf.keras.metrics.CategoricalAccuracy('accuracy')"
   ]
  },
  {
   "cell_type": "code",
   "execution_count": null,
   "metadata": {
    "id": "26b8zWRxRThS"
   },
   "outputs": [],
   "source": [
    "model.compile(optimizer=adam_optimizer, loss=loss, metrics=[acc])"
   ]
  },
  {
   "cell_type": "code",
   "execution_count": null,
   "metadata": {
    "colab": {
     "base_uri": "https://localhost:8080/"
    },
    "id": "3Xx-_Gy6Rxt0",
    "outputId": "e9713cf3-37cc-436a-e27f-9578e44db982"
   },
   "outputs": [
    {
     "name": "stdout",
     "output_type": "stream",
     "text": [
      "Epoch 1/3\n",
      "3750/3750 [==============================] - 3101s 811ms/step - loss: 0.2346 - accuracy: 0.9187 - val_loss: 0.2165 - val_accuracy: 0.9313\n",
      "Epoch 2/3\n",
      "3750/3750 [==============================] - 3034s 809ms/step - loss: 0.1453 - accuracy: 0.9505 - val_loss: 0.1931 - val_accuracy: 0.9395\n",
      "Epoch 3/3\n",
      "3750/3750 [==============================] - 3034s 809ms/step - loss: 0.1056 - accuracy: 0.9642 - val_loss: 0.2016 - val_accuracy: 0.9429\n"
     ]
    }
   ],
   "source": [
    "log = model.fit(train_data,validation_data = test_data, epochs = 3)"
   ]
  },
  {
   "cell_type": "code",
   "execution_count": null,
   "metadata": {
    "id": "SRzmzO0Ewude"
   },
   "outputs": [],
   "source": [
    "model.save('BERT_AG_news_classifier_609')"
   ]
  },
  {
   "cell_type": "code",
   "execution_count": null,
   "metadata": {
    "colab": {
     "base_uri": "https://localhost:8080/",
     "height": 321
    },
    "id": "xNs_px5ARDqq",
    "outputId": "e33892d9-9b5d-4fe2-806a-05b0c2ce1a4c"
   },
   "outputs": [
    {
     "ename": "OSError",
     "evalue": "No file or directory found at BERT_AG_news_classifier_609",
     "output_type": "error",
     "traceback": [
      "\u001b[0;31m---------------------------------------------------------------------------\u001b[0m",
      "\u001b[0;31mOSError\u001b[0m                                   Traceback (most recent call last)",
      "\u001b[0;32m<ipython-input-17-374a10edd28b>\u001b[0m in \u001b[0;36m<cell line: 1>\u001b[0;34m()\u001b[0m\n\u001b[0;32m----> 1\u001b[0;31m \u001b[0mloaded_model\u001b[0m \u001b[0;34m=\u001b[0m \u001b[0mtf\u001b[0m\u001b[0;34m.\u001b[0m\u001b[0mkeras\u001b[0m\u001b[0;34m.\u001b[0m\u001b[0mmodels\u001b[0m\u001b[0;34m.\u001b[0m\u001b[0mload_model\u001b[0m\u001b[0;34m(\u001b[0m\u001b[0;34m'BERT_AG_news_classifier_609'\u001b[0m\u001b[0;34m)\u001b[0m\u001b[0;34m\u001b[0m\u001b[0;34m\u001b[0m\u001b[0m\n\u001b[0m",
      "\u001b[0;32m/usr/local/lib/python3.10/dist-packages/keras/src/saving/saving_api.py\u001b[0m in \u001b[0;36mload_model\u001b[0;34m(filepath, custom_objects, compile, safe_mode, **kwargs)\u001b[0m\n\u001b[1;32m    260\u001b[0m \u001b[0;34m\u001b[0m\u001b[0m\n\u001b[1;32m    261\u001b[0m     \u001b[0;31m# Legacy case.\u001b[0m\u001b[0;34m\u001b[0m\u001b[0;34m\u001b[0m\u001b[0m\n\u001b[0;32m--> 262\u001b[0;31m     return legacy_sm_saving_lib.load_model(\n\u001b[0m\u001b[1;32m    263\u001b[0m         \u001b[0mfilepath\u001b[0m\u001b[0;34m,\u001b[0m \u001b[0mcustom_objects\u001b[0m\u001b[0;34m=\u001b[0m\u001b[0mcustom_objects\u001b[0m\u001b[0;34m,\u001b[0m \u001b[0mcompile\u001b[0m\u001b[0;34m=\u001b[0m\u001b[0mcompile\u001b[0m\u001b[0;34m,\u001b[0m \u001b[0;34m**\u001b[0m\u001b[0mkwargs\u001b[0m\u001b[0;34m\u001b[0m\u001b[0;34m\u001b[0m\u001b[0m\n\u001b[1;32m    264\u001b[0m     )\n",
      "\u001b[0;32m/usr/local/lib/python3.10/dist-packages/keras/src/utils/traceback_utils.py\u001b[0m in \u001b[0;36merror_handler\u001b[0;34m(*args, **kwargs)\u001b[0m\n\u001b[1;32m     68\u001b[0m             \u001b[0;31m# To get the full stack trace, call:\u001b[0m\u001b[0;34m\u001b[0m\u001b[0;34m\u001b[0m\u001b[0m\n\u001b[1;32m     69\u001b[0m             \u001b[0;31m# `tf.debugging.disable_traceback_filtering()`\u001b[0m\u001b[0;34m\u001b[0m\u001b[0;34m\u001b[0m\u001b[0m\n\u001b[0;32m---> 70\u001b[0;31m             \u001b[0;32mraise\u001b[0m \u001b[0me\u001b[0m\u001b[0;34m.\u001b[0m\u001b[0mwith_traceback\u001b[0m\u001b[0;34m(\u001b[0m\u001b[0mfiltered_tb\u001b[0m\u001b[0;34m)\u001b[0m \u001b[0;32mfrom\u001b[0m \u001b[0;32mNone\u001b[0m\u001b[0;34m\u001b[0m\u001b[0;34m\u001b[0m\u001b[0m\n\u001b[0m\u001b[1;32m     71\u001b[0m         \u001b[0;32mfinally\u001b[0m\u001b[0;34m:\u001b[0m\u001b[0;34m\u001b[0m\u001b[0;34m\u001b[0m\u001b[0m\n\u001b[1;32m     72\u001b[0m             \u001b[0;32mdel\u001b[0m \u001b[0mfiltered_tb\u001b[0m\u001b[0;34m\u001b[0m\u001b[0;34m\u001b[0m\u001b[0m\n",
      "\u001b[0;32m/usr/local/lib/python3.10/dist-packages/keras/src/saving/legacy/save.py\u001b[0m in \u001b[0;36mload_model\u001b[0;34m(filepath, custom_objects, compile, options)\u001b[0m\n\u001b[1;32m    232\u001b[0m                     \u001b[0;32mif\u001b[0m \u001b[0misinstance\u001b[0m\u001b[0;34m(\u001b[0m\u001b[0mfilepath_str\u001b[0m\u001b[0;34m,\u001b[0m \u001b[0mstr\u001b[0m\u001b[0;34m)\u001b[0m\u001b[0;34m:\u001b[0m\u001b[0;34m\u001b[0m\u001b[0;34m\u001b[0m\u001b[0m\n\u001b[1;32m    233\u001b[0m                         \u001b[0;32mif\u001b[0m \u001b[0;32mnot\u001b[0m \u001b[0mtf\u001b[0m\u001b[0;34m.\u001b[0m\u001b[0mio\u001b[0m\u001b[0;34m.\u001b[0m\u001b[0mgfile\u001b[0m\u001b[0;34m.\u001b[0m\u001b[0mexists\u001b[0m\u001b[0;34m(\u001b[0m\u001b[0mfilepath_str\u001b[0m\u001b[0;34m)\u001b[0m\u001b[0;34m:\u001b[0m\u001b[0;34m\u001b[0m\u001b[0;34m\u001b[0m\u001b[0m\n\u001b[0;32m--> 234\u001b[0;31m                             raise IOError(\n\u001b[0m\u001b[1;32m    235\u001b[0m                                 \u001b[0;34mf\"No file or directory found at {filepath_str}\"\u001b[0m\u001b[0;34m\u001b[0m\u001b[0;34m\u001b[0m\u001b[0m\n\u001b[1;32m    236\u001b[0m                             )\n",
      "\u001b[0;31mOSError\u001b[0m: No file or directory found at BERT_AG_news_classifier_609"
     ]
    }
   ],
   "source": [
    "loaded_model = tf.keras.models.load_model('BERT_AG_news_classifier_609')"
   ]
  },
  {
   "cell_type": "code",
   "execution_count": null,
   "metadata": {
    "colab": {
     "base_uri": "https://localhost:8080/"
    },
    "id": "MDfuKQRaRWxq",
    "outputId": "7c94a7e5-ef5f-4e04-922c-938876234ada"
   },
   "outputs": [
    {
     "name": "stdout",
     "output_type": "stream",
     "text": [
      "Model: \"model\"\n",
      "__________________________________________________________________________________________________\n",
      " Layer (type)                Output Shape                 Param #   Connected to                  \n",
      "==================================================================================================\n",
      " ids (InputLayer)            [(None, 512)]                0         []                            \n",
      "                                                                                                  \n",
      " masks (InputLayer)          [(None, 512)]                0         []                            \n",
      "                                                                                                  \n",
      " bert (TFBertMainLayer)      TFBaseModelOutputWithPooli   1094822   ['ids[0][0]',                 \n",
      "                             ngAndCrossAttentions(last_   40         'masks[0][0]']               \n",
      "                             hidden_state=(None, 512, 7                                           \n",
      "                             68),                                                                 \n",
      "                              pooler_output=(None, 768)                                           \n",
      "                             , past_key_values=None, hi                                           \n",
      "                             dden_states=None, attentio                                           \n",
      "                             ns=None, cross_attentions=                                           \n",
      "                             None)                                                                \n",
      "                                                                                                  \n",
      " dense (Dense)               (None, 1024)                 787456    ['bert[0][1]']                \n",
      "                                                                                                  \n",
      " output_layer (Dense)        (None, 4)                    4100      ['dense[0][0]']               \n",
      "                                                                                                  \n",
      "==================================================================================================\n",
      "Total params: 110273796 (420.66 MB)\n",
      "Trainable params: 110273796 (420.66 MB)\n",
      "Non-trainable params: 0 (0.00 Byte)\n",
      "__________________________________________________________________________________________________\n"
     ]
    }
   ],
   "source": [
    "loaded_model.summary()"
   ]
  },
  {
   "cell_type": "code",
   "execution_count": null,
   "metadata": {
    "colab": {
     "base_uri": "https://localhost:8080/"
    },
    "id": "pnOofVSNCoVr",
    "outputId": "06ed7474-46b9-4201-80fd-0b74723e6fb5"
   },
   "outputs": [
    {
     "name": "stdout",
     "output_type": "stream",
     "text": [
      "Mounted at /content/drive\n"
     ]
    }
   ],
   "source": [
    "from google.colab import drive\n",
    "drive.mount('/content/drive')"
   ]
  },
  {
   "cell_type": "code",
   "execution_count": null,
   "metadata": {
    "id": "rglDLbikCo_9"
   },
   "outputs": [],
   "source": []
  },
  {
   "cell_type": "code",
   "execution_count": null,
   "metadata": {
    "id": "kUroWJfWRa4S"
   },
   "outputs": [],
   "source": []
  }
 ],
 "metadata": {
  "accelerator": "GPU",
  "colab": {
   "gpuType": "A100",
   "provenance": []
  },
  "kernelspec": {
   "display_name": "Python 3 (ipykernel)",
   "language": "python",
   "name": "python3"
  },
  "language_info": {
   "codemirror_mode": {
    "name": "ipython",
    "version": 3
   },
   "file_extension": ".py",
   "mimetype": "text/x-python",
   "name": "python",
   "nbconvert_exporter": "python",
   "pygments_lexer": "ipython3",
   "version": "3.11.8"
  },
  "widgets": {
   "application/vnd.jupyter.widget-state+json": {
    "state": {},
    "version_major": 2,
    "version_minor": 0
   }
  }
 },
 "nbformat": 4,
 "nbformat_minor": 4
}
